{
 "cells": [
  {
   "cell_type": "markdown",
   "metadata": {},
   "source": [
    "# ML Sensitivity Indices\n",
    "\n",
    "This notebook demonstrates QMCPy's support for vectorized sensitivity index computation. We preview this functionlity by performing classification of Iris species using a decision tree. The computed sensitivity indices provide new insight into this classic machine learning problem. "
   ]
  },
  {
   "cell_type": "code",
   "execution_count": 1,
   "metadata": {},
   "outputs": [],
   "source": [
    "from numpy import *\n",
    "from qmcpy import *\n",
    "import pandas as pd\n",
    "from sklearn.datasets import load_iris\n",
    "from sklearn.tree import DecisionTreeClassifier,plot_tree\n",
    "from sklearn.model_selection import train_test_split\n",
    "from skopt import gp_minimize\n",
    "from matplotlib import pyplot"
   ]
  },
  {
   "cell_type": "markdown",
   "metadata": {},
   "source": [
    "## Load Data\n",
    "\n",
    "We begin by reading in the Iris dataset and providing some basic summary statistics. Our goal will be to predict the Iris class (Setosa, Versicolour, or Virginica) based on Iris attributes (sepal length, sepal width, petal length, and petal width)."
   ]
  },
  {
   "cell_type": "code",
   "execution_count": 4,
   "metadata": {
    "scrolled": false
   },
   "outputs": [
    {
     "name": "stdout",
     "output_type": "stream",
     "text": [
      ".. _iris_dataset:\n",
      "\n",
      "Iris plants dataset\n",
      "--------------------\n",
      "\n",
      "**Data Set Characteristics:**\n",
      "\n",
      "    :Number of Instances: 150 (50 in each of three classes)\n",
      "    :Number of Attributes: 4 numeric, predictive attributes and the class\n",
      "    :Attribute Information:\n",
      "        - sepal length in cm\n",
      "        - sepal width in cm\n",
      "        - petal length in cm\n",
      "        - petal width in cm\n",
      "        - class:\n",
      "                - Iris-Setosa\n",
      "                - Iris-Versicolour\n",
      "                - Iris-Virginica\n",
      "                \n",
      "    :Summary Statistics:\n",
      "\n",
      "    ============== ==== ==== ======= ===== ====================\n",
      "                    Min  Max   Mean    SD   Class Correlation\n",
      "    ============== ==== ==== ======= ===== ====================\n",
      "    sepal length:   4.3  7.9   5.84   0.83    0.7826\n",
      "    sepal width:    2.0  4.4   3.05   0.43   -0.4194\n",
      "    petal length:   1.0  6.9   3.76   1.76    0.9490  (high!)\n",
      "    petal width:    0.1  2.5   1.20   0.76    0.9565  (high!)\n",
      "    ============== ==== ==== ======= ===== ====================\n",
      "\n",
      "    :Missing Attribute Values: None\n",
      "    :Class Distribution: 33.3% for each of 3 classes.\n",
      "    :Creator: R.A. Fisher\n",
      "    :Donor: Michael Marshall (MARSHALL%PLU@io.arc.nasa.gov)\n",
      "    :Date: July, 1988\n",
      "\n",
      "The famous Iris database, first used by Sir R.A. Fisher. The dataset is taken\n",
      "from Fisher's paper. Note that it's the same as in R, but not as in the UCI\n",
      "Machine Learning Repository, which has two wrong data points.\n",
      "\n",
      "This is perhaps the best known database to be found in the\n",
      "pattern recognition literature.  Fisher's paper is a classic in the field and\n",
      "is referenced frequently to this day.  (See Duda & Hart, for example.)  The\n",
      "data set contains 3 classes of 50 instances each, where each class refers to a\n",
      "type of iris plant.  One class is linearly separable from the other 2; the\n",
      "latter are NOT linearly separable from each other.\n",
      "\n",
      ".. topic:: References\n",
      "\n",
      "   - Fisher, R.A. \"The use of multiple measurements in taxonomic problems\"\n",
      "     Annual Eugenics, 7, Part II, 179-188 (1936); also in \"Contributions to\n",
      "     Mathematical Statistics\" (John Wiley, NY, 1950).\n",
      "   - Duda, R.O., & Hart, P.E. (1973) Pattern Classification and Scene Analysis.\n",
      "     (Q327.D83) John Wiley & Sons.  ISBN 0-471-22361-1.  See page 218.\n",
      "   - Dasarathy, B.V. (1980) \"Nosing Around the Neighborhood: A New System\n",
      "     Structure and Classification Rule for Recognition in Partially Exposed\n",
      "     Environments\".  IEEE Transactions on Pattern Analysis and Machine\n",
      "     Intelligence, Vol. PAMI-2, No. 1, 67-71.\n",
      "   - Gates, G.W. (1972) \"The Reduced Nearest Neighbor Rule\".  IEEE Transactions\n",
      "     on Information Theory, May 1972, 431-433.\n",
      "   - See also: 1988 MLC Proceedings, 54-64.  Cheeseman et al\"s AUTOCLASS II\n",
      "     conceptual clustering system finds 3 classes in the data.\n",
      "   - Many, many more ...\n"
     ]
    }
   ],
   "source": [
    "data = load_iris()\n",
    "print(data['DESCR'])"
   ]
  },
  {
   "cell_type": "code",
   "execution_count": 5,
   "metadata": {},
   "outputs": [
    {
     "name": "stdout",
     "output_type": "stream",
     "text": [
      "df shape: (150, 5)\n",
      "iris species map: {0: 'setosa', 1: 'versicolor', 2: 'virginica'}\n"
     ]
    },
    {
     "data": {
      "text/html": [
       "<div>\n",
       "<style scoped>\n",
       "    .dataframe tbody tr th:only-of-type {\n",
       "        vertical-align: middle;\n",
       "    }\n",
       "\n",
       "    .dataframe tbody tr th {\n",
       "        vertical-align: top;\n",
       "    }\n",
       "\n",
       "    .dataframe thead th {\n",
       "        text-align: right;\n",
       "    }\n",
       "</style>\n",
       "<table border=\"1\" class=\"dataframe\">\n",
       "  <thead>\n",
       "    <tr style=\"text-align: right;\">\n",
       "      <th></th>\n",
       "      <th>sepal length (cm)</th>\n",
       "      <th>sepal width (cm)</th>\n",
       "      <th>petal length (cm)</th>\n",
       "      <th>petal width (cm)</th>\n",
       "      <th>iris type</th>\n",
       "    </tr>\n",
       "  </thead>\n",
       "  <tbody>\n",
       "    <tr>\n",
       "      <th>0</th>\n",
       "      <td>5.1</td>\n",
       "      <td>3.5</td>\n",
       "      <td>1.4</td>\n",
       "      <td>0.2</td>\n",
       "      <td>0.0</td>\n",
       "    </tr>\n",
       "    <tr>\n",
       "      <th>1</th>\n",
       "      <td>4.9</td>\n",
       "      <td>3.0</td>\n",
       "      <td>1.4</td>\n",
       "      <td>0.2</td>\n",
       "      <td>0.0</td>\n",
       "    </tr>\n",
       "    <tr>\n",
       "      <th>2</th>\n",
       "      <td>4.7</td>\n",
       "      <td>3.2</td>\n",
       "      <td>1.3</td>\n",
       "      <td>0.2</td>\n",
       "      <td>0.0</td>\n",
       "    </tr>\n",
       "    <tr>\n",
       "      <th>3</th>\n",
       "      <td>4.6</td>\n",
       "      <td>3.1</td>\n",
       "      <td>1.5</td>\n",
       "      <td>0.2</td>\n",
       "      <td>0.0</td>\n",
       "    </tr>\n",
       "    <tr>\n",
       "      <th>4</th>\n",
       "      <td>5.0</td>\n",
       "      <td>3.6</td>\n",
       "      <td>1.4</td>\n",
       "      <td>0.2</td>\n",
       "      <td>0.0</td>\n",
       "    </tr>\n",
       "  </tbody>\n",
       "</table>\n",
       "</div>"
      ],
      "text/plain": [
       "   sepal length (cm)  sepal width (cm)  petal length (cm)  petal width (cm)  \\\n",
       "0                5.1               3.5                1.4               0.2   \n",
       "1                4.9               3.0                1.4               0.2   \n",
       "2                4.7               3.2                1.3               0.2   \n",
       "3                4.6               3.1                1.5               0.2   \n",
       "4                5.0               3.6                1.4               0.2   \n",
       "\n",
       "   iris type  \n",
       "0        0.0  \n",
       "1        0.0  \n",
       "2        0.0  \n",
       "3        0.0  \n",
       "4        0.0  "
      ]
     },
     "execution_count": 5,
     "metadata": {},
     "output_type": "execute_result"
    }
   ],
   "source": [
    "x = data['data']\n",
    "y = data['target']\n",
    "feature_names = data['feature_names']\n",
    "df = pd.DataFrame(hstack((x,y[:,None])),columns=feature_names+['iris type'])\n",
    "print('df shape:',df.shape)\n",
    "target_names = data['target_names']\n",
    "iris_type_map = {i:target_names[i] for i in range(len(target_names))}\n",
    "print('iris species map:',iris_type_map)\n",
    "df.head()"
   ]
  },
  {
   "cell_type": "code",
   "execution_count": 8,
   "metadata": {},
   "outputs": [
    {
     "name": "stdout",
     "output_type": "stream",
     "text": [
      "training data   (xt) shape: (100, 4)\n",
      "training labels (yt) shape: (100,)\n",
      "testing data    (xv) shape: (50, 4)\n",
      "testing labels  (yv) shape: (50,)\n"
     ]
    }
   ],
   "source": [
    "xt,xv,yt,yv = train_test_split(x,y,test_size=1/3,random_state=7)\n",
    "print('training data   (xt) shape: %s'%str(xt.shape))\n",
    "print('training labels (yt) shape: %s'%str(yt.shape))\n",
    "print('testing data    (xv) shape: %s'%str(xv.shape))\n",
    "print('testing labels  (yv) shape: %s'%str(yv.shape))"
   ]
  },
  {
   "cell_type": "markdown",
   "metadata": {},
   "source": [
    "## Importance of Decision Tree Hyperparameters\n",
    "\n",
    "We would like to predict Iris species using a Decision Tree (DT) classifier. When initializing a DT, we arrive at the question of how to set hyperparameters such as tree depth or the minimum weight fraction for each leaf. These hyperparameters can greatly effect classificaiton accuracy, so it is worthwhile to consider their importance to determining classificaiton performance. \n",
    "\n",
    "Note that while this notebook uses decision trees and the Iris dataset, the methodology is directly applicable to other datasets and models. \n",
    "\n",
    "We begin this exploration by setting up a hyperparameter domain in which to uniformly sample DT hyperparameter configurations. A helper function and its' tie into QMCPy are also created. "
   ]
  },
  {
   "cell_type": "code",
   "execution_count": 9,
   "metadata": {},
   "outputs": [],
   "source": [
    "hp_domain = [\n",
    "    {'name':'max_depth', 'bounds':[1,8]},\n",
    "    {'name':'min_weight_fraction_leaf', 'bounds':[0,.5]}]\n",
    "hpnames = [param['name'] for param in hp_domain]\n",
    "hp_lb = array([param['bounds'][0] for param in hp_domain])\n",
    "hp_ub = array([param['bounds'][1] for param in hp_domain])\n",
    "d = len(hp_domain)\n",
    "def get_dt_accuracy(hparams):\n",
    "    accuracies = zeros(len(hparams))\n",
    "    for i,hparam in enumerate(hparams):\n",
    "        kwargs = {hp_domain[j]['name']:hparam[j] for j in range(d)}\n",
    "        dt = DecisionTreeClassifier(random_state=7,**kwargs).fit(xt,yt)\n",
    "        yhat = dt.predict(xv)\n",
    "        accuracies[i] = mean(yhat==yv)\n",
    "    return accuracies\n",
    "cf = CustomFun(\n",
    "    true_measure = Uniform(DigitalNetB2(d,seed=7),lower_bound=hp_lb,upper_bound=hp_ub),\n",
    "    g = get_dt_accuracy,\n",
    "    parallel=False)"
   ]
  },
  {
   "cell_type": "markdown",
   "metadata": {},
   "source": [
    "### Average Acuracy\n",
    "\n",
    "Our first goal will be to find the average DT accuracy acorss the hyperparameter doamin. To do so, we perform Quasi-Monte Carlo numerical integration to approximate the mean testing accuracy. "
   ]
  },
  {
   "cell_type": "code",
   "execution_count": 10,
   "metadata": {},
   "outputs": [
    {
     "data": {
      "text/plain": [
       "LDTransformData (AccumulateData Object)\n",
       "    solution        0.787\n",
       "    indv_error      3.07e-04\n",
       "    ci_low          0.787\n",
       "    ci_high         0.788\n",
       "    ci_comb_low     0.787\n",
       "    ci_comb_high    0.788\n",
       "    flags_comb      0\n",
       "    flags_indv      0\n",
       "    n_total         2^(12)\n",
       "    n               2^(12)\n",
       "    time_integrate  1.982\n",
       "CubQMCNetG (StoppingCriterion Object)\n",
       "    abs_tol         5.00e-04\n",
       "    rel_tol         0\n",
       "    n_init          2^(10)\n",
       "    n_max           2^(35)\n",
       "CustomFun (Integrand Object)\n",
       "Uniform (TrueMeasure Object)\n",
       "    lower_bound     [1 0]\n",
       "    upper_bound     [8.  0.5]\n",
       "DigitalNetB2 (DiscreteDistribution Object)\n",
       "    d               2^(1)\n",
       "    dvec            [0 1]\n",
       "    randomize       LMS_DS\n",
       "    graycode        0\n",
       "    entropy         7\n",
       "    spawn_key       ()"
      ]
     },
     "execution_count": 10,
     "metadata": {},
     "output_type": "execute_result"
    }
   ],
   "source": [
    "avg_accuracy,data_avg_accuracy = CubQMCNetG(cf,abs_tol=5e-4).integrate()\n",
    "data_avg_accuracy"
   ]
  },
  {
   "cell_type": "markdown",
   "metadata": {},
   "source": [
    "Here we find the average accuracy to be 78.7% using $2^{12}$ samples. "
   ]
  },
  {
   "cell_type": "markdown",
   "metadata": {},
   "source": [
    "### Sensitivity Indices\n",
    "\n",
    "Next, we wish to quantify how important individual hyperparamters are to determining testing accuracy. To do this, we compute the sensitiviy indices of our hyperparameters. In QMCPy we use the `SobolIndices` class to compute these sensitivity indices. "
   ]
  },
  {
   "cell_type": "code",
   "execution_count": 12,
   "metadata": {},
   "outputs": [
    {
     "data": {
      "text/plain": [
       "LDTransformData (AccumulateData Object)\n",
       "    solution        [[0.142 0.722]\n",
       "                    [0.25  0.807]]\n",
       "    indv_error      [[0.001 0.001 0.001]\n",
       "                    [0.    0.    0.001]]\n",
       "    ci_low          [[0.003 0.018 0.787]\n",
       "                    [0.006 0.02  0.643]]\n",
       "    ci_high         [[0.004 0.019 0.788]\n",
       "                    [0.006 0.021 0.645]]\n",
       "    ci_comb_low     [[0.11  0.682]\n",
       "                    [0.238 0.775]]\n",
       "    ci_comb_high    [[0.174 0.763]\n",
       "                    [0.263 0.839]]\n",
       "    flags_comb      [[False False]\n",
       "                    [False False]]\n",
       "    flags_indv      [[False False False]\n",
       "                    [False False False]]\n",
       "    n_total         2^(11)\n",
       "    n               [[1024. 2048. 2048.]\n",
       "                    [1024. 2048. 2048.]]\n",
       "    time_integrate  3.403\n",
       "CubQMCNetG (StoppingCriterion Object)\n",
       "    abs_tol         0.050\n",
       "    rel_tol         0\n",
       "    n_init          2^(10)\n",
       "    n_max           2^(35)\n",
       "SobolIndices (Integrand Object)\n",
       "    indices         [[0]\n",
       "                    [1]]\n",
       "    n_multiplier    2^(1)\n",
       "Uniform (TrueMeasure Object)\n",
       "    lower_bound     [1 0]\n",
       "    upper_bound     [8.  0.5]\n",
       "DigitalNetB2 (DiscreteDistribution Object)\n",
       "    d               4\n",
       "    dvec            [0 1 2 3]\n",
       "    randomize       LMS_DS\n",
       "    graycode        0\n",
       "    entropy         7\n",
       "    spawn_key       (1,)"
      ]
     },
     "execution_count": 12,
     "metadata": {},
     "output_type": "execute_result"
    }
   ],
   "source": [
    "si = SobolIndices(cf)\n",
    "solution_importances,data_importances = CubQMCNetG(si,abs_tol=5e-2).integrate()\n",
    "data_importances"
   ]
  },
  {
   "cell_type": "code",
   "execution_count": 17,
   "metadata": {},
   "outputs": [
    {
     "name": "stdout",
     "output_type": "stream",
     "text": [
      "(2, 2, 1)\n",
      "closed sensitivity indices: [0.14218559 0.7221166 ]\n",
      "total sensitivity indices: [0.25037075 0.80713815]\n"
     ]
    }
   ],
   "source": [
    "print('closed sensitivity indices: %s'%str(solution_importances[0].squeeze()))\n",
    "print('total sensitivity indices: %s'%str(solution_importances[1].squeeze()))"
   ]
  },
  {
   "cell_type": "markdown",
   "metadata": {},
   "source": [
    "Looking closer at the output, we see that the second hyperparameter (`min_weight_fraction_leaf`) is more important than the first one (`max_depth`). The closed sensitivity indices measure how much that hyperparameter contributes to testing accuracy variance. The total sensitivity indices measure how much that hyperparameter, or any subset of hyperparameters containing that one contributes to testing accuracy variance. For example, the first closed sensitivity index approximates the variability attributable to {`max_depth`} while the first total sensitivity index approximates the variability attributable to both {`max_depth`} and {`max_depth`,`min_weight_fraction_leaf`}.  "
   ]
  },
  {
   "cell_type": "markdown",
   "metadata": {},
   "source": [
    "### Marginals\n",
    "\n",
    "We may also use QMCPy's support for vectorized Quasi-Monte Carlo to compute marginal distributions. This is relatively straightforward to do for the Uniform true measure used here, but caution should be taken when adapting these techniques to measures with non-trivial covariance structures."
   ]
  },
  {
   "cell_type": "code",
   "execution_count": 18,
   "metadata": {},
   "outputs": [],
   "source": [
    "def marginal(x,compute_flags,xpts,bools,not_bools):\n",
    "    n,_ = x.shape\n",
    "    x2 = zeros((n,d),dtype=float)\n",
    "    x2[:,bools] = x\n",
    "    y = zeros((n,len(xpts)),dtype=float)\n",
    "    for k,xpt in enumerate(xpts):\n",
    "        if not compute_flags[k]: continue\n",
    "        x2[:,not_bools] = xpt\n",
    "        y[:,k] = get_dt_accuracy(x2)\n",
    "    return y"
   ]
  },
  {
   "cell_type": "code",
   "execution_count": 19,
   "metadata": {},
   "outputs": [
    {
     "data": {
      "image/png": "[encoded data removed]",
      "text/plain": [
       "<Figure size 576x288 with 2 Axes>"
      ]
     },
     "metadata": {
      "needs_background": "light"
     },
     "output_type": "display_data"
    }
   ],
   "source": [
    "fig,ax = pyplot.subplots(nrows=1,ncols=2,figsize=(8,4))\n",
    "nticks = 32\n",
    "xpts01 = linspace(0,1,nticks)\n",
    "for i in range(2):\n",
    "    xpts = xpts01*(hp_ub[i]-hp_lb[i])+hp_lb[i]\n",
    "    bools = array([True if j not in [i] else False for j in range(d)])\n",
    "    def marginal_i(x,compute_flags): return marginal(x,compute_flags,xpts,bools,~bools)\n",
    "    cf = CustomFun(\n",
    "         true_measure = Uniform(DigitalNetB2(1,seed=7),lower_bound=hp_lb[bools],upper_bound=hp_ub[bools]),\n",
    "         g = marginal_i,\n",
    "         dprime=len(xpts),\n",
    "         parallel=True)\n",
    "    sol,data = CubQMCNetG(cf,abs_tol=5e-2).integrate()\n",
    "    ax[i].plot(xpts,sol,'-o',color='m')\n",
    "    ax[i].fill_between(xpts,data.ci_high,data.ci_low,color='c',alpha=.5)\n",
    "    ax[i].set_xlabel(hpnames[i].replace('_',' '))\n",
    "    ax[i].set_ylabel('accuracy')"
   ]
  },
  {
   "cell_type": "markdown",
   "metadata": {},
   "source": [
    "## Bayesian Optimization of Hyperparameters\n",
    "\n",
    "Having explored DT hyperparameter importance, we are now ready to construct our optimal DT. We already have quite a bit of data relating hyperparameter settings to testing accuracy, so we may simply select the best configuration and call this an optimal DT. However, if we are looking to squeeze out even more performance, we may choose to perform Bayesian Optimization which incorportes our past metadata. Sample code is provided below despite not finding an improved configuration for this problem."
   ]
  },
  {
   "cell_type": "code",
   "execution_count": 20,
   "metadata": {},
   "outputs": [
    {
     "name": "stdout",
     "output_type": "stream",
     "text": [
      "best result before BO is 94% accuracy\n",
      "best result from BO is 94% accuracy\n"
     ]
    }
   ],
   "source": [
    "x0 = data_avg_accuracy.xfull*(hp_ub-hp_lb)+hp_lb\n",
    "y0 = -data_avg_accuracy.yfull.squeeze()\n",
    "print('best result before BO is %d%% accuracy'%(-100*y0.min()))\n",
    "result = gp_minimize(\n",
    "    func = lambda hparams: get_dt_accuracy(atleast_2d(hparams)).squeeze().item(),\n",
    "    dimensions = [(l,u) for l,u in zip(hp_lb,hp_ub)],\n",
    "    n_calls = 32,\n",
    "    n_initial_points = 0,\n",
    "    x0 = x0[:128].tolist(),\n",
    "    y0 = y0[:128].tolist(),\n",
    "    random_state = 7)\n",
    "xbo_best = result.x\n",
    "ybo_best = -result.fun\n",
    "print('best result from BO is %d%% accuracy'%(100*ybo_best))\n",
    "xbo = array(result.x_iters)\n",
    "ybo = -array(result.func_vals)"
   ]
  },
  {
   "cell_type": "markdown",
   "metadata": {},
   "source": [
    "## Best Decision Tree Analysis\n",
    "\n",
    "Below we print the configuration that rested in the best DT. We also print the optimal accuracy achieved (at this configuration) and visualize the branches of this tree. "
   ]
  },
  {
   "cell_type": "code",
   "execution_count": 21,
   "metadata": {},
   "outputs": [
    {
     "name": "stdout",
     "output_type": "stream",
     "text": [
      "{'max_depth': 6.590231250738725, 'min_weight_fraction_leaf': 0.01750528148841113}\n",
      "best decision tree accuracy: 94.0%\n"
     ]
    },
    {
     "data": {
      "image/png": "[encoded data removed]",
      "text/plain": [
       "<Figure size 720x1080 with 1 Axes>"
      ]
     },
     "metadata": {
      "needs_background": "light"
     },
     "output_type": "display_data"
    }
   ],
   "source": [
    "best_kwargs = {name:val for name,val in zip(hpnames,xbo_best)}\n",
    "print(best_kwargs)\n",
    "dt = DecisionTreeClassifier(random_state=7,**best_kwargs).fit(xt,yt)\n",
    "yhat = dt.predict(xv)\n",
    "accuracy = mean(yhat==yv)\n",
    "print('best decision tree accuracy: %.1f%%'%(100*accuracy))\n",
    "fig = pyplot.figure(figsize=(10,15))\n",
    "plot_tree(dt,feature_names=feature_names,class_names=target_names,filled=True);"
   ]
  },
  {
   "cell_type": "markdown",
   "metadata": {},
   "source": [
    "### Feature Importance\n",
    "\n",
    "We the optimal DT in hand, we may now question how important the Irises features are in determining the class/species. To answer this question, we again perform sensitivity analysis, but this time we select a uniform measure over the domain of Iris feautres. Our output which we wish to quantify the variance of is now a length 3 vector of class probabilites."
   ]
  },
  {
   "cell_type": "code",
   "execution_count": 22,
   "metadata": {
    "scrolled": false
   },
   "outputs": [
    {
     "data": {
      "text/plain": [
       "LDTransformData (AccumulateData Object)\n",
       "    solution        [[[0.    0.    0.   ]\n",
       "                     [0.    0.    0.   ]\n",
       "                     [1.    0.43  0.456]\n",
       "                     [0.    0.354 0.338]]\n",
       "                   \n",
       "                    [[0.    0.    0.   ]\n",
       "                     [0.    0.    0.   ]\n",
       "                     [1.    0.645 0.661]\n",
       "                     [0.    0.569 0.543]]]\n",
       "    indv_error      [[[0.000e+00 0.000e+00 0.000e+00]\n",
       "                     [0.000e+00 0.000e+00 0.000e+00]\n",
       "                     [9.172e-05 1.404e-04 1.296e-04]\n",
       "                     [0.000e+00 1.138e-04 1.424e-04]\n",
       "                     [5.245e-05 8.033e-05 7.803e-05]]\n",
       "                   \n",
       "                    [[0.000e+00 0.000e+00 0.000e+00]\n",
       "                     [0.000e+00 0.000e+00 0.000e+00]\n",
       "                     [8.496e-05 6.493e-05 6.367e-05]\n",
       "                     [0.000e+00 8.347e-05 8.347e-05]\n",
       "                     [5.245e-05 9.239e-05 6.729e-05]]]\n",
       "    ci_low          [[[0.    0.    0.   ]\n",
       "                     [0.    0.    0.   ]\n",
       "                     [0.185 0.078 0.087]\n",
       "                     [0.    0.065 0.065]\n",
       "                     [0.246 0.36  0.394]]\n",
       "                   \n",
       "                    [[0.    0.    0.   ]\n",
       "                     [0.    0.    0.   ]\n",
       "                     [0.185 0.118 0.126]\n",
       "                     [0.    0.104 0.104]\n",
       "                     [0.246 0.312 0.347]]]\n",
       "    ci_high         [[[0.    0.    0.   ]\n",
       "                     [0.    0.    0.   ]\n",
       "                     [0.186 0.079 0.087]\n",
       "                     [0.    0.065 0.065]\n",
       "                     [0.246 0.36  0.395]]\n",
       "                   \n",
       "                    [[0.    0.    0.   ]\n",
       "                     [0.    0.    0.   ]\n",
       "                     [0.186 0.118 0.127]\n",
       "                     [0.    0.104 0.104]\n",
       "                     [0.246 0.312 0.347]]]\n",
       "    ci_comb_low     [[[0.    0.    0.   ]\n",
       "                     [0.    0.    0.   ]\n",
       "                     [0.999 0.429 0.455]\n",
       "                     [0.    0.354 0.337]]\n",
       "                   \n",
       "                    [[0.    0.    0.   ]\n",
       "                     [0.    0.    0.   ]\n",
       "                     [0.999 0.645 0.661]\n",
       "                     [0.    0.568 0.543]]]\n",
       "    ci_comb_high    [[[0.    0.    0.   ]\n",
       "                     [0.    0.    0.   ]\n",
       "                     [1.001 0.431 0.457]\n",
       "                     [0.    0.355 0.339]]\n",
       "                   \n",
       "                    [[0.    0.    0.   ]\n",
       "                     [0.    0.    0.   ]\n",
       "                     [1.001 0.646 0.662]\n",
       "                     [0.    0.57  0.544]]]\n",
       "    flags_comb      [[[False False False]\n",
       "                     [False False False]\n",
       "                     [False False False]\n",
       "                     [False False False]]\n",
       "                   \n",
       "                    [[False False False]\n",
       "                     [False False False]\n",
       "                     [False False False]\n",
       "                     [False False False]]]\n",
       "    flags_indv      [[[False False False]\n",
       "                     [False False False]\n",
       "                     [False False False]\n",
       "                     [False False False]\n",
       "                     [False False False]]\n",
       "                   \n",
       "                    [[False False False]\n",
       "                     [False False False]\n",
       "                     [False False False]\n",
       "                     [False False False]\n",
       "                     [False False False]]]\n",
       "    n_total         2^(16)\n",
       "    n               [[[ 1024.  1024.  1024.]\n",
       "                     [ 1024.  1024.  1024.]\n",
       "                     [32768. 65536. 65536.]\n",
       "                     [ 1024. 65536. 65536.]\n",
       "                     [32768. 65536. 65536.]]\n",
       "                   \n",
       "                    [[ 1024.  1024.  1024.]\n",
       "                     [ 1024.  1024.  1024.]\n",
       "                     [32768. 65536. 65536.]\n",
       "                     [ 1024. 65536. 65536.]\n",
       "                     [32768. 65536. 65536.]]]\n",
       "    time_integrate  0.829\n",
       "CubQMCNetG (StoppingCriterion Object)\n",
       "    abs_tol         0.001\n",
       "    rel_tol         0\n",
       "    n_init          2^(10)\n",
       "    n_max           2^(35)\n",
       "SobolIndices (Integrand Object)\n",
       "    indices         [[0]\n",
       "                    [1]\n",
       "                    [2]\n",
       "                    [3]]\n",
       "    n_multiplier    2^(2)\n",
       "Uniform (TrueMeasure Object)\n",
       "    lower_bound     [4.3 2.  1.  0.1]\n",
       "    upper_bound     [7.9 4.4 6.9 2.5]\n",
       "DigitalNetB2 (DiscreteDistribution Object)\n",
       "    d               8\n",
       "    dvec            [0 1 2 3 4 5 6 7]\n",
       "    randomize       LMS_DS\n",
       "    graycode        0\n",
       "    entropy         7\n",
       "    spawn_key       (0,)"
      ]
     },
     "execution_count": 22,
     "metadata": {},
     "output_type": "execute_result"
    }
   ],
   "source": [
    "xfeatures = df.to_numpy()\n",
    "xfeatures_low = xfeatures[:,:-1].min(0)\n",
    "xfeatures_high = xfeatures[:,:-1].max(0)\n",
    "d_features = len(xfeatures_low)\n",
    "def dt_pp(t,compute_flags): return dt.predict_proba(t)\n",
    "cf = CustomFun(\n",
    "    true_measure = Uniform(DigitalNetB2(d_features,seed=7),\n",
    "        lower_bound = xfeatures_low,\n",
    "        upper_bound = xfeatures_high),\n",
    "    g = dt_pp,\n",
    "    dprime = 3,\n",
    "    parallel = False)\n",
    "si_cf = SobolIndices(cf,indices='singletons')\n",
    "solution,data = CubQMCNetG(si_cf,abs_tol=1e-3,n_init=2**10).integrate()\n",
    "data"
   ]
  },
  {
   "cell_type": "code",
   "execution_count": 24,
   "metadata": {},
   "outputs": [
    {
     "name": "stdout",
     "output_type": "stream",
     "text": [
      "(2, 4, 3)\n"
     ]
    },
    {
     "data": {
      "text/plain": [
       "array([[[0.        , 0.        , 0.        ],\n",
       "        [0.        , 0.        , 0.        ],\n",
       "        [1.00020515, 0.43043351, 0.45591603],\n",
       "        [0.        , 0.35448994, 0.33829097]],\n",
       "\n",
       "       [[0.        , 0.        , 0.        ],\n",
       "        [0.        , 0.        , 0.        ],\n",
       "        [1.00020514, 0.64546422, 0.66139409],\n",
       "        [0.        , 0.56890354, 0.54341883]]])"
      ]
     },
     "execution_count": 24,
     "metadata": {},
     "output_type": "execute_result"
    }
   ],
   "source": [
    "print(solution.shape)\n",
    "solution"
   ]
  },
  {
   "cell_type": "markdown",
   "metadata": {},
   "source": [
    "While the solution looks unwieldly, it has quite a natural interpretation. The first axis determines wheather we are looking at a closed (index 0) or total (index 1) sensitivity index as before. The second axis indexes the subset of features we are testing. Here the second index is length 4 because we are testing all size 1 subsets of feaures, but you may for example choose to find closed/total indices for {`sepal_length`} and {`sepal_length`,`sepal_width`} by setting `indices=[[0],[0,1]]`, in which case axis 2 would also have length 2. The third and final axis is length 3 for the the 3 class probabilities we are interested in. For example, `solution[0,2,2]` looks at the closed sensitivity index of our index 2 feaure (petal length) for our index 2 probability (virginica) AKA how importnat is petal length alone to determining if an Iris is virginica. \n",
    "\n",
    "The results indicate that setosa Irises can be completely determined based on petal length while the versicolor and virginica Irises can be completely determined by looking at both petal length and petal width. Interestingly sepal length and sepal width do not contribute significantly to determining species. \n",
    "\n",
    "These insights are not surprising or especially insightful for a decision tree where the tree structure indicates importance and the scores may even be computed directly. However, for more complicated models and datasets, this analysis pipeline may provide advanced insight into both hyperparameter tuning and feature importance. "
   ]
  },
  {
   "cell_type": "code",
   "execution_count": null,
   "metadata": {},
   "outputs": [],
   "source": []
  }
 ],
 "metadata": {
  "kernelspec": {
   "display_name": "Python 3",
   "language": "python",
   "name": "python3"
  },
  "language_info": {
   "codemirror_mode": {
    "name": "ipython",
    "version": 3
   },
   "file_extension": ".py",
   "mimetype": "text/x-python",
   "name": "python",
   "nbconvert_exporter": "python",
   "pygments_lexer": "ipython3",
   "version": "3.7.0"
  }
 },
 "nbformat": 4,
 "nbformat_minor": 4
}
