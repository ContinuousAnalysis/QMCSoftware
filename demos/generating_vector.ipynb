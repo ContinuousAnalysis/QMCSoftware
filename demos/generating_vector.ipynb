{
 "cells": [
  {
   "cell_type": "markdown",
   "metadata": {},
   "source": [
    "## This is a presentation on a new feature of the lattice class--using integers for generating vectors"
   ]
  },
  {
   "cell_type": "code",
   "execution_count": 1,
   "metadata": {},
   "outputs": [],
   "source": [
    "import qmcpy as qp"
   ]
  },
  {
   "cell_type": "markdown",
   "metadata": {},
   "source": [
    "The generating vector can now be an integer--call this integer $m$. In practice, the generating vecor is an array that has length $2^{m}$ with leading digit $1$ and the other digits randomly selected between $1$ and $2^{m}$."
   ]
  },
  {
   "cell_type": "code",
   "execution_count": 2,
   "metadata": {},
   "outputs": [
    {
     "name": "stdout",
     "output_type": "stream",
     "text": [
      "[[0.45909352 0.96680284]\n",
      " [0.95909352 0.46680284]\n",
      " [0.70909352 0.71680284]\n",
      " [0.20909352 0.21680284]\n",
      " [0.58409352 0.34180284]\n",
      " [0.08409352 0.84180284]\n",
      " [0.83409352 0.09180284]\n",
      " [0.33409352 0.59180284]\n",
      " [0.52159352 0.15430284]\n",
      " [0.02159352 0.65430284]\n",
      " [0.77159352 0.90430284]\n",
      " [0.27159352 0.40430284]\n",
      " [0.64659352 0.52930284]\n",
      " [0.14659352 0.02930284]\n",
      " [0.89659352 0.27930284]\n",
      " [0.39659352 0.77930284]]\n",
      "[  1 195]\n"
     ]
    }
   ],
   "source": [
    "l = qp.Lattice(generating_vector= 10,dimension = 2)\n",
    "print(l.gen_samples(16))\n",
    "print(l.z_og)"
   ]
  },
  {
   "cell_type": "markdown",
   "metadata": {},
   "source": [
    "**Sample Integral**"
   ]
  },
  {
   "cell_type": "code",
   "execution_count": 3,
   "metadata": {},
   "outputs": [],
   "source": [
    "d = 3\n",
    "tol = 1e-4\n",
    "lat = qp.Lattice(generating_vector=20,dimension= d)\n",
    "gaussian_lattice = qp.Gaussian(lat, mean = 0, covariance = 1/2)\n",
    "keister = qp.Keister(gaussian_lattice)\n",
    "keister_lattice_gauss_g = qp.CubQMCCLT(keister, abs_tol = tol)\n"
   ]
  },
  {
   "cell_type": "code",
   "execution_count": 4,
   "metadata": {},
   "outputs": [
    {
     "name": "stdout",
     "output_type": "stream",
     "text": [
      "[2.16831096]\n"
     ]
    }
   ],
   "source": [
    "solution, data = keister_lattice_gauss_g.integrate()\n",
    "print(data.solution)"
   ]
  },
  {
   "cell_type": "code",
   "execution_count": 5,
   "metadata": {},
   "outputs": [
    {
     "name": "stdout",
     "output_type": "stream",
     "text": [
      "[[0.97432774 0.65512197 0.60446727]\n",
      " [0.47432774 0.15512197 0.10446727]\n",
      " [0.22432774 0.90512197 0.35446727]\n",
      " [0.72432774 0.40512197 0.85446727]]\n",
      "[[0.96276565 0.58151371 0.24238228]\n",
      " [0.46276565 0.08151371 0.74238228]\n",
      " [0.21276565 0.83151371 0.99238228]\n",
      " [0.71276565 0.33151371 0.49238228]]\n",
      "[[0.65975154 0.06185539 0.61992668]\n",
      " [0.15975154 0.56185539 0.11992668]\n",
      " [0.90975154 0.31185539 0.36992668]\n",
      " [0.40975154 0.81185539 0.86992668]]\n",
      "[[0.9558909  0.56693103 0.86811768]\n",
      " [0.4558909  0.06693103 0.36811768]\n",
      " [0.2058909  0.81693103 0.61811768]\n",
      " [0.7058909  0.31693103 0.11811768]]\n",
      "[[0.51548669 0.88293282 0.87382473]\n",
      " [0.01548669 0.38293282 0.37382473]\n",
      " [0.76548669 0.13293282 0.62382473]\n",
      " [0.26548669 0.63293282 0.12382473]]\n",
      "[[0.21497196 0.2027308  0.95383915]\n",
      " [0.71497196 0.7027308  0.45383915]\n",
      " [0.46497196 0.4527308  0.70383915]\n",
      " [0.96497196 0.9527308  0.20383915]]\n",
      "[[0.9727895  0.60661401 0.54751354]\n",
      " [0.4727895  0.10661401 0.04751354]\n",
      " [0.2227895  0.85661401 0.29751354]\n",
      " [0.7227895  0.35661401 0.79751354]]\n",
      "[[0.07376194 0.69745015 0.40598079]\n",
      " [0.57376194 0.19745015 0.90598079]\n",
      " [0.32376194 0.94745015 0.15598079]\n",
      " [0.82376194 0.44745015 0.65598079]]\n",
      "[[0.19726817 0.07848732 0.96462916]\n",
      " [0.69726817 0.57848732 0.46462916]\n",
      " [0.44726817 0.32848732 0.71462916]\n",
      " [0.94726817 0.82848732 0.21462916]]\n",
      "[[0.74296407 0.43741031 0.57566264]\n",
      " [0.24296407 0.93741031 0.07566264]\n",
      " [0.99296407 0.68741031 0.32566264]\n",
      " [0.49296407 0.18741031 0.82566264]]\n",
      "[[0.12403309 0.9626786  0.5828299 ]\n",
      " [0.62403309 0.4626786  0.0828299 ]\n",
      " [0.37403309 0.2126786  0.3328299 ]\n",
      " [0.87403309 0.7126786  0.8328299 ]]\n",
      "[[0.10346164 0.00590559 0.55319659]\n",
      " [0.60346164 0.50590559 0.05319659]\n",
      " [0.35346164 0.25590559 0.30319659]\n",
      " [0.85346164 0.75590559 0.80319659]]\n",
      "[[0.58496451 0.4165028  0.71355472]\n",
      " [0.08496451 0.9165028  0.21355472]\n",
      " [0.83496451 0.6665028  0.46355472]\n",
      " [0.33496451 0.1665028  0.96355472]]\n",
      "[[0.5351049  0.98148273 0.93620279]\n",
      " [0.0351049  0.48148273 0.43620279]\n",
      " [0.7851049  0.23148273 0.68620279]\n",
      " [0.2851049  0.73148273 0.18620279]]\n",
      "[[0.06132431 0.56098553 0.92339978]\n",
      " [0.56132431 0.06098553 0.42339978]\n",
      " [0.31132431 0.81098553 0.67339978]\n",
      " [0.81132431 0.31098553 0.17339978]]\n",
      "[[0.13171749 0.46069857 0.42116628]\n",
      " [0.63171749 0.96069857 0.92116628]\n",
      " [0.38171749 0.71069857 0.17116628]\n",
      " [0.88171749 0.21069857 0.67116628]]\n"
     ]
    },
    {
     "data": {
      "text/plain": [
       "[None,\n",
       " None,\n",
       " None,\n",
       " None,\n",
       " None,\n",
       " None,\n",
       " None,\n",
       " None,\n",
       " None,\n",
       " None,\n",
       " None,\n",
       " None,\n",
       " None,\n",
       " None,\n",
       " None,\n",
       " None]"
      ]
     },
     "execution_count": 5,
     "metadata": {},
     "output_type": "execute_result"
    }
   ],
   "source": [
    "[print(lat.gen_samples(4)) for lat in keister_lattice_gauss_g.data.rep_distribs]"
   ]
  }
 ],
 "metadata": {
  "kernelspec": {
   "display_name": "Python 3.9.13 ('qmcpy')",
   "language": "python",
   "name": "python3"
  },
  "language_info": {
   "codemirror_mode": {
    "name": "ipython",
    "version": 3
   },
   "file_extension": ".py",
   "mimetype": "text/x-python",
   "name": "python",
   "nbconvert_exporter": "python",
   "pygments_lexer": "ipython3",
   "version": "3.9.13"
  },
  "orig_nbformat": 4,
  "vscode": {
   "interpreter": {
    "hash": "ea5d385c76b244e8592ed3e9c41fb6899a517e508ff1c8a169eb415b69393742"
   }
  }
 },
 "nbformat": 4,
 "nbformat_minor": 2
}
