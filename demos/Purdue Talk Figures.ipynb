{
 "cells": [
  {
   "cell_type": "code",
   "execution_count": 25,
   "id": "e7dd159a",
   "metadata": {},
   "outputs": [],
   "source": [
    "import matplotlib.pyplot as plt\n",
    "import numpy as np\n",
    "import qmcpy as qp\n",
    "#plt.style.use('../qmcpy.mplstyle')\n",
    "figpath = '/Users/fredhickernell/SoftwareRepositories/Purdue-2023-March-Talk/figures/'"
   ]
  },
  {
   "cell_type": "code",
   "execution_count": 11,
   "id": "3525a3ef",
   "metadata": {},
   "outputs": [],
   "source": [
    "ld = qp.Lattice(5)\n",
    "xpts = ld.gen_samples(64)"
   ]
  },
  {
   "cell_type": "code",
   "execution_count": 26,
   "id": "b80c6392",
   "metadata": {},
   "outputs": [
    {
     "data": {
      "image/png": "[encoded data removed]",
      "text/plain": [
       "<Figure size 500x500 with 1 Axes>"
      ]
     },
     "metadata": {},
     "output_type": "display_data"
    }
   ],
   "source": [
    "fig, ax = plt.subplots(nrows=1,ncols=1,figsize=(5,5))\n",
    "ax.scatter(xpts[:,0],xpts[:,1],color='tab:blue')\n",
    "ax.set_xlim([0,1])\n",
    "ax.set_ylim([0,1])\n",
    "ax.set_xlabel(r'$x_1$')\n",
    "ax.set_ylabel(r'$x_2$')\n",
    "ax.set_aspect(1)\n",
    "#ax.set_xticks([0,0.25,0.5,0.75,1])\n",
    "fig.savefig(figpath+'latticepts.eps',format='eps')"
   ]
  },
  {
   "cell_type": "code",
   "execution_count": 14,
   "id": "9ea7626b",
   "metadata": {},
   "outputs": [
    {
     "name": "stdout",
     "output_type": "stream",
     "text": [
      "\u001b[34mApplications\u001b[m\u001b[m\r\n",
      "\u001b[34mDesktop\u001b[m\u001b[m\r\n",
      "\u001b[34mDocuments\u001b[m\u001b[m\r\n",
      "\u001b[34mDownloads\u001b[m\u001b[m\r\n",
      "\u001b[35mDropbox\u001b[m\u001b[m\r\n",
      "\u001b[34mIIT Google Drive\u001b[m\u001b[m\r\n",
      "\u001b[34mLibrary\u001b[m\u001b[m\r\n",
      "\u001b[34mMovies\u001b[m\u001b[m\r\n",
      "\u001b[34mMusic\u001b[m\u001b[m\r\n",
      "\u001b[35mOneDrive\u001b[m\u001b[m\r\n",
      "\u001b[35mOneDrive - Illinois Institute of Technology\u001b[m\u001b[m\r\n",
      "\u001b[34mPersonal Google Drive\u001b[m\u001b[m\r\n",
      "\u001b[34mPictures\u001b[m\u001b[m\r\n",
      "\u001b[34mPublic\u001b[m\u001b[m\r\n",
      "\u001b[34mSoftwareRepositories\u001b[m\u001b[m\r\n",
      "\u001b[35mfjhickernell@gmail.com - Google Drive\u001b[m\u001b[m\r\n",
      "\u001b[35mhickernell@iit.edu - Google Drive\u001b[m\u001b[m\r\n",
      "java.log.34720\r\n",
      "\u001b[34mminiconda3\u001b[m\u001b[m\r\n"
     ]
    }
   ],
   "source": [
    "!ls ~/"
   ]
  },
  {
   "cell_type": "code",
   "execution_count": 15,
   "id": "d773d711",
   "metadata": {},
   "outputs": [
    {
     "name": "stdout",
     "output_type": "stream",
     "text": [
      "\u001b[34mMCQMC-2022-Linz\u001b[m\u001b[m        \u001b[34mPurdue-2023-March-Talk\u001b[m\u001b[m\r\n",
      "\u001b[34mMaster-Project\u001b[m\u001b[m         \u001b[34mQMCSoftware\u001b[m\u001b[m\r\n"
     ]
    }
   ],
   "source": [
    "!ls ~/SoftwareRepositories"
   ]
  },
  {
   "cell_type": "code",
   "execution_count": 18,
   "id": "eb49cc58",
   "metadata": {},
   "outputs": [
    {
     "data": {
      "text/plain": [
       "'~/SoftwareRepositories/Purdue-2023-March-Talk/figures/latticepts.png'"
      ]
     },
     "execution_count": 18,
     "metadata": {},
     "output_type": "execute_result"
    }
   ],
   "source": [
    "figpath+'latticepts.png'"
   ]
  },
  {
   "cell_type": "code",
   "execution_count": 20,
   "id": "f4ec4aec",
   "metadata": {},
   "outputs": [],
   "source": [
    "!ls ~/SoftwareRepositories/Purdue-2023-March-Talk/figures"
   ]
  },
  {
   "cell_type": "code",
   "execution_count": null,
   "id": "51d1699c",
   "metadata": {},
   "outputs": [],
   "source": []
  }
 ],
 "metadata": {
  "kernelspec": {
   "display_name": "Python 3 (ipykernel)",
   "language": "python",
   "name": "python3"
  },
  "language_info": {
   "codemirror_mode": {
    "name": "ipython",
    "version": 3
   },
   "file_extension": ".py",
   "mimetype": "text/x-python",
   "name": "python",
   "nbconvert_exporter": "python",
   "pygments_lexer": "ipython3",
   "version": "3.9.13"
  }
 },
 "nbformat": 4,
 "nbformat_minor": 5
}
