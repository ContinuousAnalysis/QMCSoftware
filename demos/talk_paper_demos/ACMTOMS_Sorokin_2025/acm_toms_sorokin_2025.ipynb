{
 "cells": [
  {
   "cell_type": "markdown",
   "metadata": {},
   "source": [
    "# Quasi-Monte Carlo Generators, Randomizers, and Fast Transforms"
   ]
  },
  {
   "cell_type": "markdown",
   "metadata": {},
   "source": [
    "## Setup"
   ]
  },
  {
   "cell_type": "code",
   "execution_count": 1,
   "metadata": {},
   "outputs": [],
   "source": [
    "import qmcpy as qp\n",
    "import numpy as np\n",
    "import scipy.stats\n",
    "import timeit\n",
    "from matplotlib import pyplot\n",
    "from collections import OrderedDict\n",
    "import os\n",
    "import time\n",
    "import itertools"
   ]
  },
  {
   "cell_type": "code",
   "execution_count": 2,
   "metadata": {},
   "outputs": [],
   "source": [
    "pyplot.style.use(\"seaborn-v0_8-pastel\")\n",
    "colors = [\n",
    "    \"xkcd:purple\",\n",
    "    \"xkcd:green\",\n",
    "    \"xkcd:blue\",\n",
    "    \"xkcd:pink\",\n",
    "    \"xkcd:brown\",\n",
    "    \"xkcd:red\",\n",
    "    \"xkcd:orange\",\n",
    "    \"xkcd:violet\",\n",
    "    \"xkcd:grey\",\n",
    "]"
   ]
  },
  {
   "cell_type": "markdown",
   "metadata": {},
   "source": [
    "## Snippets"
   ]
  },
  {
   "cell_type": "code",
   "execution_count": 16,
   "metadata": {},
   "outputs": [
    {
     "name": "stdout",
     "output_type": "stream",
     "text": [
      "CPU times: user 1.15 s, sys: 142 ms, total: 1.29 s\n",
      "Wall time: 1.46 s\n"
     ]
    }
   ],
   "source": [
    "%%time \n",
    "lattice = qp.Lattice(\n",
    "    dimension = 52,\n",
    "    randomize = \"shift\", # for unrandomized lattice set randomize = None\n",
    "    replications = 16, # R\n",
    "    order = \"radical inverse\", # also supports \"linear\" and \"Gray code\"\n",
    "    seed = None, # pass integer seed for reproducibility\n",
    "    generating_vector = \"LDData:mps.exod2_base2_m20_CKN.txt\")\n",
    "x = lattice(2**16) # a numpy.ndarray with shape 16 x 65536 x 52"
   ]
  },
  {
   "cell_type": "code",
   "execution_count": null,
   "metadata": {},
   "outputs": [
    {
     "name": "stdout",
     "output_type": "stream",
     "text": [
      "CPU times: user 1.17 s, sys: 437 ms, total: 1.61 s\n",
      "Wall time: 1.82 s\n"
     ]
    }
   ],
   "source": [
    "%%time\n",
    "dnb2 = qp.DigitalNetB2(\n",
    "    dimension = 52, \n",
    "    randomize = \"LMS DS\", # Matousek's LMS then a digital shift\n",
    "    # other options [\"NUS\", \"DS\", \"LMS\", None]\n",
    "    t = 64, # number of LMS bits i.e. number of rows in S_j\n",
    "    alpha = 2, # interlacing factor for higher order digital nets\n",
    "    replications = 16, # R\n",
    "    order = \"radical inverse\", # also supports \"Gray code\"\n",
    "    seed = None, # pass integer seed for reproducibility\n",
    "    generating_matrices = \"LDData:mps.sobol_Cs.txt\")\n",
    "x = dnb2(2**16) # a numpy.ndarray with shape 16 x 65536 x 52"
   ]
  },
  {
   "cell_type": "code",
   "execution_count": null,
   "metadata": {},
   "outputs": [
    {
     "name": "stdout",
     "output_type": "stream",
     "text": [
      "CPU times: user 1.46 s, sys: 336 ms, total: 1.79 s\n",
      "Wall time: 1.81 s\n"
     ]
    }
   ],
   "source": [
    "%%time \n",
    "halton = qp.Halton(\n",
    "    dimension = 52, \n",
    "    randomize = \"LMS PERM\", # Matousek's LMS then a digital permutation\n",
    "    # other options [\"LMS DS\", \"LMS\", \"PERM\", \"DS\", \"NUS\", \"QRNG\", None]\n",
    "    t = 64, # number of LMS digits i.e. number of rows in S_j\n",
    "    replications = 16, # R\n",
    "    seed = None) # pass integer seed for reproducibility\n",
    "x = halton(2**10) # a numpy.ndarray with shape 16 x 1024 x 52"
   ]
  },
  {
   "cell_type": "code",
   "execution_count": null,
   "metadata": {},
   "outputs": [],
   "source": [
    "assert False"
   ]
  },
  {
   "cell_type": "markdown",
   "metadata": {},
   "source": [
    "## Pointsets"
   ]
  },
  {
   "cell_type": "code",
   "execution_count": null,
   "metadata": {},
   "outputs": [],
   "source": [
    "m = 13 # n = 2^m\n",
    "n = 2**m # number of points\n",
    "d = 2 # dimensions"
   ]
  },
  {
   "cell_type": "code",
   "execution_count": null,
   "metadata": {},
   "outputs": [],
   "source": [
    "pointsets = OrderedDict({\n",
    "    \"IID\": qp.IIDStdUniform(d).gen_samples(n),\n",
    "    \"Lattice + Shift\": qp.Lattice(d).gen_samples(n),\n",
    "    r\"DN${}_{2}$ + LMS + DS\": qp.DigitalNetB2(d,randomize=\"LMS_DS\").gen_samples(n),\n",
    "    r\"DN${}_{2}$ + NUS\": qp.DigitalNetB2(d,randomize=\"NUS\").gen_samples(n),\n",
    "    \"Halton + LMS + DP\": qp.Halton(d,randomize=\"LMS_PERM\").gen_samples(n),\n",
    "    \"Halton + NUS\": qp.Halton(d,randomize=\"NUS\").gen_samples(n),\n",
    "    r\"HO${}_2$ DN${}_{2}$ + LMS + DS\": qp.DigitalNetB2(d,randomize=\"LMS_DS\",alpha=2).gen_samples(n),\n",
    "    r\"HO${}_2$ DN${}_{2}$ + NUS\": qp.DigitalNetB2(d,randomize=\"NUS\",alpha=2).gen_samples(n),\n",
    "    r\"HO${}_3$ DN${}_{2}$ + LMS + DS\": qp.DigitalNetB2(d,randomize=\"LMS_DS\",alpha=3).gen_samples(n),\n",
    "    r\"HO${}_3$ DN${}_{2}$ + NUS\": qp.DigitalNetB2(d,randomize=\"NUS\",alpha=3).gen_samples(n),\n",
    "    r\"HO${}_4$ DN${}_{2}$ + LMS + DS\": qp.DigitalNetB2(d,randomize=\"LMS_DS\",alpha=4).gen_samples(n),\n",
    "    r\"HO${}_4$ DN${}_{2}$ + NUS\": qp.DigitalNetB2(d,randomize=\"NUS\",alpha=4).gen_samples(n)})"
   ]
  },
  {
   "cell_type": "code",
   "execution_count": null,
   "metadata": {},
   "outputs": [],
   "source": [
    "nrows,ncols = 2,6\n",
    "assert len(pointsets)==(nrows*ncols)\n",
    "fig,ax = pyplot.subplots(nrows=nrows,ncols=ncols,figsize=(ncols*3,nrows*3))\n",
    "color = \"black\"\n",
    "s = .05\n",
    "for i,(name,x) in enumerate(pointsets.items()):\n",
    "    ri,ci = i//ncols,i%ncols\n",
    "    ax[ri,ci].set_title(name)\n",
    "    ax[ri,ci].scatter(x[:,0],x[:,1],color=color,s=s)\n",
    "    ax[ri,ci].set_xlim([0,1]); ax[ri,ci].set_xticks([0,1])\n",
    "    ax[ri,ci].set_ylim([0,1]); ax[ri,ci].set_yticks([0,1])\n",
    "    ax[ri,ci].set_aspect(1)\n",
    "fig.savefig(\"outputs/pointsets.eps\",bbox_inches=\"tight\",format=\"eps\")"
   ]
  },
  {
   "cell_type": "markdown",
   "metadata": {},
   "source": [
    "## Generation time"
   ]
  },
  {
   "cell_type": "code",
   "execution_count": null,
   "metadata": {},
   "outputs": [],
   "source": [
    "r = 1\n",
    "d = 1\n",
    "reps = 11\n",
    "m_max = 20"
   ]
  },
  {
   "cell_type": "code",
   "execution_count": null,
   "metadata": {},
   "outputs": [],
   "source": [
    "def time_block(pointsets_fns,names):\n",
    "    p = len(pointsets_fns)\n",
    "    t = np.nan*np.empty((p,m_max+1),dtype=np.float64)\n",
    "    times = np.empty(reps,dtype=np.float64)\n",
    "    for i in range(p):\n",
    "        print(\"%25s: \"%names[i],end=\"\",flush=True)\n",
    "        generator = pointsets_fns[i]\n",
    "        for m in range(0,m_max+1):\n",
    "            print(\"%d, \"%m,end='',flush=True)\n",
    "            for r in range(reps):\n",
    "                t0 = time.process_time()\n",
    "                x = generator(2**m)\n",
    "                times[r] = time.process_time()-t0\n",
    "            t[i,m] = np.mean(times)\n",
    "            if t[i,m]>=1: break\n",
    "        print()\n",
    "    return t "
   ]
  },
  {
   "cell_type": "code",
   "execution_count": null,
   "metadata": {},
   "outputs": [],
   "source": [
    "pointsets_noho_fns = [\n",
    "    lambda n: qp.IIDStdUniform(d,replications=r).gen_samples(n),\n",
    "    lambda n: qp.Lattice(d,replications=r).gen_samples(n),\n",
    "    lambda n: qp.DigitalNetB2(d,randomize=\"LMS_DS\",replications=r).gen_samples(n),\n",
    "    lambda n: qp.DigitalNetB2(d,randomize=\"NUS\",replications=r).gen_samples(n),\n",
    "    lambda n: qp.Halton(d,randomize=\"LMS_DS\",replications=r).gen_samples(n),\n",
    "    lambda n: qp.Halton(d,randomize=\"NUS\",replications=r).gen_samples(n),]\n",
    "names_noho = [\n",
    "    \"IID\",\n",
    "    \"Lattice + Shift\",\n",
    "    r\"DN${}_{2}$ + LMS + DS\",\n",
    "    r\"DN${}_{2}$ + NUS\",\n",
    "    \"Halton + LMS + DP\",\n",
    "    \"Halton + NUS\",]\n",
    "t_noho = time_block(pointsets_noho_fns,names_noho)"
   ]
  },
  {
   "cell_type": "code",
   "execution_count": null,
   "metadata": {},
   "outputs": [],
   "source": [
    "pointsets_dnb2_lms_ds_ho_fns = [\n",
    "    lambda n: qp.DigitalNetB2(d,randomize=\"LMS_DS\",replications=r,alpha=2).gen_samples(n),\n",
    "    lambda n: qp.DigitalNetB2(d,randomize=\"LMS_DS\",replications=r,alpha=3).gen_samples(n),\n",
    "    lambda n: qp.DigitalNetB2(d,randomize=\"LMS_DS\",replications=r,alpha=4).gen_samples(n),]\n",
    "names_dnb2_lms_ds_ho_fns = [\n",
    "    r\"$\\alpha = %d$\"%2,\n",
    "    r\"$\\alpha = %d$\"%3,\n",
    "    r\"$\\alpha = %d$\"%4,]\n",
    "t_dnb2_lms_ds_ho = time_block(pointsets_dnb2_lms_ds_ho_fns,names_dnb2_lms_ds_ho_fns)"
   ]
  },
  {
   "cell_type": "code",
   "execution_count": null,
   "metadata": {},
   "outputs": [],
   "source": [
    "pointsets_dnb2_nus_ho_fns = [\n",
    "    lambda n: qp.DigitalNetB2(d,randomize=\"NUS\",replications=r,alpha=2).gen_samples(n),\n",
    "    lambda n: qp.DigitalNetB2(d,randomize=\"NUS\",replications=r,alpha=3).gen_samples(n),\n",
    "    lambda n: qp.DigitalNetB2(d,randomize=\"NUS\",replications=r,alpha=4).gen_samples(n),]\n",
    "names_dnb2_nus_ho = [\n",
    "    r\"$\\alpha = %d$\"%2,\n",
    "    r\"$\\alpha = %d$\"%3,\n",
    "    r\"$\\alpha = %d$\"%4,]\n",
    "t_dnb2_nus_ho = time_block(pointsets_dnb2_nus_ho_fns,names_dnb2_nus_ho)"
   ]
  },
  {
   "cell_type": "code",
   "execution_count": null,
   "metadata": {},
   "outputs": [],
   "source": [
    "x_fft  = np.random.rand(2**(m_max+1))+1j*np.random.rand(2**(m_max+1))\n",
    "x_fwht = np.random.rand(2**(m_max+1))\n",
    "ft_fns = [\n",
    "    lambda n: qp.fftbr(x_fft[:n]),\n",
    "    lambda n: qp.ifftbr(x_fft[:n]),\n",
    "    lambda n: qp.fwht(x_fwht[:n]),]\n",
    "names_ft = [\n",
    "    \"FFT BR\",\n",
    "    \"IFFT BR\",\n",
    "    \"FWHT\",]\n",
    "t_ft = time_block(ft_fns,names_ft)"
   ]
  },
  {
   "cell_type": "code",
   "execution_count": null,
   "metadata": {},
   "outputs": [],
   "source": [
    "fig,ax = pyplot.subplots(nrows=1,ncols=3,figsize=(4*5,1*5),sharey=True,sharex=True)\n",
    "mvec = np.arange(2,m_max+1)\n",
    "nvec = 2**mvec\n",
    "linewidth = 3\n",
    "ms = 7.5\n",
    "ax[0].plot(nvec,t_noho[0,mvec],label=names_noho[0],marker=\"o\",markersize=ms,linewidth=linewidth,color=colors[0])\n",
    "ax[0].plot(nvec,t_noho[1,mvec],label=names_noho[1],marker=\"x\",markersize=ms,linewidth=linewidth,color=colors[1])\n",
    "ax[0].plot(nvec,t_noho[2,mvec],label=names_noho[2],marker=\"D\",markersize=ms,linewidth=linewidth,color=colors[2])\n",
    "ax[0].plot(nvec,t_noho[3,mvec],label=names_noho[3],marker=\"s\",markersize=ms,linewidth=linewidth,color=colors[3])\n",
    "ax[0].plot(nvec,t_noho[4,mvec],label=names_noho[4],marker=\"^\",markersize=ms,linewidth=linewidth,color=colors[4])\n",
    "ax[0].plot(nvec,t_noho[5,mvec],label=names_noho[5],marker=\"*\",markersize=ms,linewidth=linewidth,color=colors[5])\n",
    "ax[1].plot(nvec,t_noho[2,mvec],label=r\"$\\alpha = 1$\",linewidth=linewidth,color=colors[2],marker=\"D\",markersize=ms)\n",
    "ax[1].plot(nvec,t_noho[3,mvec],label=r\"$\\alpha = 1$\",linewidth=linewidth,color=colors[3],marker=\"s\",markersize=ms,linestyle=(0,(1,1)))\n",
    "ax[1].plot(nvec,t_dnb2_lms_ds_ho[0,mvec],label=names_dnb2_lms_ds_ho_fns[0],linewidth=linewidth,color=colors[2],marker=\"o\",markersize=ms)\n",
    "ax[1].plot(nvec,t_dnb2_nus_ho[0,mvec],label=names_dnb2_nus_ho[0],linewidth=linewidth,color=colors[3],marker=\"o\",markersize=ms,linestyle=(0,(1,1)))\n",
    "ax[1].plot(nvec,t_dnb2_lms_ds_ho[1,mvec],label=names_dnb2_lms_ds_ho_fns[1],linewidth=linewidth,color=colors[2],marker=\"x\",markersize=ms)\n",
    "ax[1].plot(nvec,t_dnb2_nus_ho[1,mvec],label=names_dnb2_nus_ho[1],linewidth=linewidth,color=colors[3],marker=\"x\",markersize=ms,linestyle=(0,(1,1)))\n",
    "ax[1].plot(nvec,t_dnb2_lms_ds_ho[2,mvec],label=names_dnb2_lms_ds_ho_fns[2],linewidth=linewidth,color=colors[2],marker=\"^\",markersize=ms)\n",
    "ax[1].plot(nvec,t_dnb2_nus_ho[2,mvec],label=names_dnb2_nus_ho[2],linewidth=linewidth,color=colors[3],marker=\"^\",markersize=ms,linestyle=(0,(1,1)))\n",
    "ax[2].plot(nvec,t_ft[0,mvec],label=names_ft[0],linewidth=linewidth,color=colors[6],marker=\"x\",markersize=ms)\n",
    "ax[2].plot(nvec,t_ft[1,mvec],label=names_ft[1],linewidth=linewidth,color=colors[7],marker=\"o\",markersize=ms)\n",
    "ax[2].plot(nvec,t_ft[2,mvec],label=names_ft[2],linewidth=linewidth,color=colors[8],marker=\"^\",markersize=ms)\n",
    "ax[0].set_title(\"popular pointsets\",fontsize=\"xx-large\")\n",
    "ax[1].set_title(r\"HO${}_{\\alpha}$ DN${}_{2}$ + LMS + DS (blue)\"+\"\\n\"+r\"HO${}_{\\alpha}$ DN${}_{2}$ + NUS          (pink)\",fontsize=\"xx-large\")\n",
    "ax[2].set_title(\"fast transforms\",fontsize=\"xx-large\")\n",
    "ax[0].legend(loc=\"lower center\",frameon=False,bbox_to_anchor=(.5,-.4),ncol=2,fontsize=\"large\")\n",
    "ax[1].legend(loc=\"lower center\",frameon=False,bbox_to_anchor=(.5,-.35),ncol=4,fontsize=\"large\")\n",
    "ax[2].legend(loc=\"lower center\",frameon=False,bbox_to_anchor=(.5,-.25),ncol=3,fontsize=\"large\")\n",
    "ax[0].set_xscale('log',base=2)\n",
    "for i in range(3):\n",
    "    ax[i].set_xlabel(r'$n$',fontsize=\"xx-large\")\n",
    "    ax[i].set_ylabel('time (sec)',fontsize=\"xx-large\")\n",
    "#ax[0].set_xlim([nvec.min(),nvec.max()])\n",
    "#ax[0].set_xticks(nvec)\n",
    "ax[0].set_yscale('log',base=10)\n",
    "for i in range(3):\n",
    "    ax[i].yaxis.set_tick_params(labelleft=True)\n",
    "fig.savefig(\"outputs/timing.eps\",bbox_inches=\"tight\",format=\"eps\")"
   ]
  },
  {
   "cell_type": "markdown",
   "metadata": {},
   "source": [
    "## Convergence"
   ]
  },
  {
   "cell_type": "code",
   "execution_count": null,
   "metadata": {},
   "outputs": [],
   "source": [
    "r = 300\n",
    "m_max = 17\n",
    "seed = 7"
   ]
  },
  {
   "cell_type": "code",
   "execution_count": null,
   "metadata": {},
   "outputs": [],
   "source": [
    "def convergence_block(integrand, transforms, pointsets_fns, names):\n",
    "    d = integrand.true_measure.discrete_distrib.d\n",
    "    p = len(pointsets_fns)\n",
    "    t = np.nan*np.empty((p,m_max+1),dtype=np.float64)\n",
    "    muhat = np.nan*np.empty((p,m_max+1),dtype=np.float64) \n",
    "    rmse = np.nan*np.empty((p,m_max+1),dtype=np.float64)\n",
    "    for i in range(p):\n",
    "        print(\"%25s: \"%names[i],end=\"\",flush=True)\n",
    "        generator = pointsets_fns[i]\n",
    "        for m in range(0,m_max+1):\n",
    "            print(\"%d, \"%m,end='',flush=True)\n",
    "            t0 = timeit.default_timer()\n",
    "            x = generator(2**m,d)\n",
    "            t[i,m] = timeit.default_timer()-t0\n",
    "            y = integrand.f(x)\n",
    "            muhats = y.mean(1)\n",
    "            muhat[i,m] = muhats.mean()\n",
    "            mse = np.mean((muhats-muhat[i,m])**2/(r*(r-1)))\n",
    "            rmse[i,m] = np.sqrt(mse)\n",
    "        print()\n",
    "    return t,muhat,rmse"
   ]
  },
  {
   "cell_type": "code",
   "execution_count": null,
   "metadata": {},
   "outputs": [],
   "source": [
    "# https://www.sfu.ca/~ssurjano/sulf.html\n",
    "def sulfer_func(t):\n",
    "    Tr       = t[...,0]\n",
    "    fAc      = t[...,1]\n",
    "    fRs      = t[...,2]\n",
    "    beta_bar = t[...,3]\n",
    "    Psi_e    = t[...,4]\n",
    "    f_Psi_e  = t[...,5]\n",
    "    Q        = t[...,6]\n",
    "    Y        = t[...,7]\n",
    "    L        = t[...,8]\n",
    "    S0 = 1366;\n",
    "    A  = 5*10**14;\n",
    "    fact1 = (S0**2) * fAc * (Tr**2) * fRs**2 * beta_bar * Psi_e * f_Psi_e;\n",
    "    fact2 = 3*Q*Y*L / A;\n",
    "    DeltaF = -1/2 * fact1 * fact2;\n",
    "    return DeltaF\n",
    "sulfer_cf = qp.CustomFun(\n",
    "    qp.SciPyWrapper(\n",
    "        qp.IIDStdUniform(9),\n",
    "        [   scipy.stats.lognorm(scale=0.76, s=np.log(1.2)),\n",
    "            scipy.stats.lognorm(scale=0.39, s=np.log(1.1)),\n",
    "            scipy.stats.lognorm(scale=0.85, s=np.log(1.1)),\n",
    "            scipy.stats.lognorm(scale=0.3,  s=np.log(1.3)),\n",
    "            scipy.stats.lognorm(scale=5.0,  s=np.log(1.4)),\n",
    "            scipy.stats.lognorm(scale=1.7,  s=np.log(1.2)),\n",
    "            scipy.stats.lognorm(scale=71.0, s=np.log(1.15)),\n",
    "            scipy.stats.lognorm(scale=0.5,  s=np.log(1.5)),\n",
    "            scipy.stats.lognorm(scale=5.5,  s=np.log(1.5)),]),\n",
    "    sulfer_func)"
   ]
  },
  {
   "cell_type": "code",
   "execution_count": null,
   "metadata": {},
   "outputs": [],
   "source": [
    "# https://www.sfu.ca/~ssurjano/borehole.html \n",
    "def borehole_func(t):\n",
    "    rw = t[...,0];\n",
    "    r  = t[...,1];\n",
    "    Tu = t[...,2];\n",
    "    Hu = t[...,3];\n",
    "    Tl = t[...,4];\n",
    "    Hl = t[...,5];\n",
    "    L  = t[...,6];\n",
    "    Kw = t[...,7];\n",
    "    frac1 = 2 * np.pi * Tu * (Hu-Hl);\n",
    "    frac2a = 2*L*Tu / (np.log(r/rw)*rw**2*Kw);\n",
    "    frac2b = Tu / Tl;\n",
    "    frac2 = np.log(r/rw) * (1+frac2a+frac2b);\n",
    "    y = frac1 / frac2;\n",
    "    return y \n",
    "borehole_cf = qp.CustomFun(\n",
    "    qp.SciPyWrapper(\n",
    "        qp.IIDStdUniform(8),\n",
    "        [   scipy.stats.norm(loc=0.10,scale=0.0161812),\n",
    "            scipy.stats.lognorm(scale=np.exp(7.71),s=1.0056),\n",
    "            scipy.stats.uniform(loc=63070,scale=115600-63070),\n",
    "            scipy.stats.uniform(loc=990,scale=1110-990),\n",
    "            scipy.stats.uniform(loc=63.1,scale=116-63.1),\n",
    "            scipy.stats.uniform(loc=700,scale=820-700),\n",
    "            scipy.stats.uniform(loc=1120,scale=1680-1120),\n",
    "            scipy.stats.uniform(loc=9855,scale=12045-9855),]),\n",
    "    borehole_func)"
   ]
  },
  {
   "cell_type": "code",
   "execution_count": null,
   "metadata": {},
   "outputs": [],
   "source": [
    "# https://www.sfu.ca/~ssurjano/webetal96.html\n",
    "webster_cf = qp.CustomFun(\n",
    "    qp.SciPyWrapper(\n",
    "        qp.IIDStdUniform(2),\n",
    "        [   scipy.stats.uniform(loc=1,scale=10-1),\n",
    "            scipy.stats.norm(loc=2,scale=1)]),\n",
    "    lambda x: x[:,0]**2+x[:,1]**3)"
   ]
  },
  {
   "cell_type": "code",
   "execution_count": null,
   "metadata": {},
   "outputs": [],
   "source": [
    "def oakley_ohagan15_func(t):\n",
    "    a1 = np.array([0.0118, 0.0456, 0.2297, 0.0393, 0.1177, 0.3865, 0.3897, 0.6061, 0.6159, 0.4005, 1.0741, 1.1474, 0.7880, 1.1242, 1.1982])\n",
    "    a2 = np.array([0.4341, 0.0887, 0.0512, 0.3233, 0.1489, 1.0360, 0.9892, 0.9672, 0.8977, 0.8083, 1.8426, 2.4712, 2.3946, 2.0045, 2.2621])\n",
    "    a3 = np.array([0.1044, 0.2057, 0.0774, 0.2730, 0.1253, 0.7526, 0.8570, 1.0331, 0.8388, 0.7970, 2.2145, 2.0382, 2.4004, 2.0541, 1.9845])\n",
    "    M = np.array([\n",
    "        [-0.022482886,  -0.18501666,  0.13418263,   0.36867264,   0.17172785,   0.13651143,  -0.44034404, -0.081422854,   0.71321025,  -0.44361072,   0.50383394, -0.024101458, -0.045939684,   0.21666181,  0.055887417],\n",
    "        [   0.25659630,  0.053792287,  0.25800381,   0.23795905,  -0.59125756, -0.081627077,  -0.28749073,   0.41581639,   0.49752241,  0.083893165,  -0.11056683,  0.033222351,  -0.13979497, -0.031020556,  -0.22318721],\n",
    "        [ -0.055999811,   0.19542252, 0.095529005,  -0.28626530,  -0.14441303,   0.22369356,   0.14527412,   0.28998481,   0.23105010,  -0.31929879,  -0.29039128,  -0.20956898,   0.43139047,  0.024429152,  0.044904409],\n",
    "        [   0.66448103,   0.43069872,  0.29924645,  -0.16202441,  -0.31479544,  -0.39026802,   0.17679822,  0.057952663,   0.17230342,   0.13466011,  -0.35275240,   0.25146896, -0.018810529,   0.36482392,  -0.32504618],\n",
    "        [  -0.12127800,   0.12463327,  0.10656519,  0.046562296,  -0.21678617,   0.19492172, -0.065521126,  0.024404669, -0.096828860,   0.19366196,   0.33354757,   0.31295994, -0.083615456,  -0.25342082,   0.37325717],\n",
    "        [  -0.28376230,  -0.32820154, -0.10496068,  -0.22073452,  -0.13708154,  -0.14426375,  -0.11503319,   0.22424151, -0.030395022,  -0.51505615,  0.017254978,  0.038957118,   0.36069184,   0.30902452,  0.050030193],\n",
    "        [ -0.077875893, 0.0037456560,  0.88685604,  -0.26590028, -0.079325357, -0.042734919,  -0.18653782,  -0.35604718,  -0.17497421,  0.088699956,   0.40025886, -0.055979693,   0.13724479,   0.21485613, -0.011265799],\n",
    "        [ -0.092294730,   0.59209563, 0.031338285, -0.033080861,  -0.24308858, -0.099798547,  0.034460195,  0.095119813,  -0.33801620, 0.0063860024,  -0.61207299,  0.081325416,   0.88683114,   0.14254905,   0.14776204],\n",
    "        [  -0.13189434,   0.52878496,  0.12652391,  0.045113625,   0.58373514,   0.37291503,   0.11395325,  -0.29479222,  -0.57014085,   0.46291592, -0.094050179,   0.13959097,  -0.38607402,  -0.44897060,  -0.14602419],\n",
    "        [  0.058107658,  -0.32289338, 0.093139162,  0.072427234,  -0.56919401,   0.52554237,   0.23656926, -0.011782016,  0.071820601,  0.078277291,  -0.13355752,   0.22722721,   0.14369455,  -0.45198935,  -0.55574794],\n",
    "        [   0.66145875,   0.34633299,  0.14098019,   0.51882591,  -0.28019898,  -0.16032260, -0.068413337,  -0.20428242,  0.069672173,   0.23112577, -0.044368579,  -0.16455425,   0.21620977, 0.0042702105, -0.087399014],\n",
    "        [   0.31599556, -0.027551859,  0.13434254,   0.13497371,  0.054005680,  -0.17374789,   0.17525393,  0.060258929,  -0.17914162,  -0.31056619,  -0.25358691,  0.025847535,  -0.43006001,  -0.62266361, -0.033996882],\n",
    "        [  -0.29038151,  0.034101270, 0.034903413,  -0.12121764,  0.026030714,  -0.33546274,  -0.41424111,  0.053248380,  -0.27099455, -0.026251302,   0.41024137,   0.26636349,   0.15582891,  -0.18666254,  0.019895831],\n",
    "        [  -0.24388652,  -0.44098852, 0.012618825,   0.24945112,  0.071101888,   0.24623792,   0.17484502, 0.0085286769,   0.25147070,  -0.14659862, -0.084625150,   0.36931333,  -0.29955293,   0.11044360,  -0.75690139],\n",
    "        [  0.041494323,  -0.25980564,  0.46402128,  -0.36112127,  -0.94980789,  -0.16504063, 0.0030943325,  0.052792942,   0.22523648,   0.38390366,   0.45562427,  -0.18631744, 0.0082333995,   0.16670803,   0.16045688]])\n",
    "    return (a1*t).sum(-1) + (a2*np.sin(t)).sum(-1) + (a3*np.cos(t)).sum(-1) + (t*np.einsum(\"ij,...j->...i\",M,t)).sum(-1)\n",
    "oakley_ohagan15_cf = qp.CustomFun(\n",
    "        qp.Gaussian(qp.IIDStdUniform(15)),\n",
    "        oakley_ohagan15_func)"
   ]
  },
  {
   "cell_type": "code",
   "execution_count": null,
   "metadata": {},
   "outputs": [],
   "source": [
    "def cbeam_func(t):\n",
    "    R = t[...,0]\n",
    "    E = t[...,1]\n",
    "    X = t[...,2]\n",
    "    Y = t[...,3]\n",
    "    L = 100;\n",
    "    D_0 = 2.2535;\n",
    "    w = 4;\n",
    "    t = 2;\n",
    "    Sterm1 = 600*Y / (w*(t**2));\n",
    "    Sterm2 = 600*X / ((w**2)*t);\n",
    "    S = Sterm1 + Sterm2;\n",
    "    Dfact1 = 4*(L**3) / (E*w*t);\n",
    "    Dfact2 = np.sqrt((Y/(t**2))**2 + (X/(w**2))**2);\n",
    "    D = Dfact1 * Dfact2\n",
    "    return D \n",
    "cbeam_cf = qp.CustomFun(\n",
    "    qp.Gaussian(qp.IIDStdUniform(4),mean=[40000,2.9e7,500,1000],covariance=[2000**2,1.45e6**2,100**2,100**2]),\n",
    "    cbeam_func)"
   ]
  },
  {
   "cell_type": "code",
   "execution_count": null,
   "metadata": {},
   "outputs": [],
   "source": [
    "def G_func(t):\n",
    "    d = t.shape[-1]\n",
    "    a = (np.arange(1,d+1)-2)/2\n",
    "    return ((np.abs(4*t-2)+a)/(1+a)).prod(-1)\n",
    "G_cf = qp.CustomFun(\n",
    "    qp.Uniform(qp.IIDStdUniform(3)),\n",
    "    G_func)"
   ]
  },
  {
   "cell_type": "code",
   "execution_count": null,
   "metadata": {},
   "outputs": [],
   "source": [
    "funcs = [\n",
    "    qp.CustomFun(\n",
    "        qp.Uniform(qp.IIDStdUniform(1)),\n",
    "         lambda x: x[...,0]*np.exp(x[...,0])-1.),\n",
    "    qp.CustomFun(\n",
    "        qp.Uniform(qp.IIDStdUniform(2)),\n",
    "        lambda x: x[...,1]*np.exp(x[...,0]*x[...,1])/(np.exp(1)-2)-1),\n",
    "    qp.CustomFun(\n",
    "        qp.Uniform(qp.IIDStdUniform(2),lower_bound=-0.01,upper_bound=0.01),\n",
    "        lambda x: 5+x[...,0]+x[...,1]+2*np.cos(x[...,0])+2*np.sin(x[...,1])),\n",
    "    G_cf,\n",
    "    qp.Genz(qp.IIDStdUniform(3),kind_func='oscillatory',kind_coeff=3),\n",
    "    qp.Genz(qp.IIDStdUniform(3),kind_func='corner-peak',kind_coeff=2),\n",
    "    # qp.Ishigami(qp.IIDStdUniform(3)),\n",
    "    #sulfer_cf,\n",
    "    #borehole_cf,\n",
    "    #webster_cf,\n",
    "    #oakley_ohagan15_cf,\n",
    "    #cbeam_cf,\n",
    "]\n",
    "func_names = [\n",
    "    r\"Simple function, $d=1$\",\n",
    "    r\"Simple function, $d=2$\",\n",
    "    r\"Oakley & O'Hagan with $d=2$\",\n",
    "    r\"G-Function, $d=%d$\"%G_cf.d,\n",
    "    r\"Oscillatory Genz, $d=3$\",\n",
    "    r\"Corner-peak Genz, $d=3$\",\n",
    "    # \"Ishigami\",\n",
    "    # \"Sulfer\",\n",
    "    # \"Borehole\",\n",
    "    # \"Webster\",\n",
    "    #r\"Oakley & O'Hagan with $d=15$\",\n",
    "    #\"Cantilever Beam\",\n",
    "]\n",
    "nfuncs = len(funcs)\n",
    "assert len(func_names)==nfuncs"
   ]
  },
  {
   "cell_type": "code",
   "execution_count": null,
   "metadata": {},
   "outputs": [],
   "source": [
    "pointsets_noho_fns = [\n",
    "    lambda n,d: qp.IIDStdUniform(d,replications=r,seed=seed).gen_samples(n),\n",
    "    lambda n,d: qp.Lattice(d,replications=r,seed=seed).gen_samples(n),\n",
    "    lambda n,d: qp.DigitalNetB2(d,randomize=\"LMS_DS\",replications=r,seed=seed).gen_samples(n),\n",
    "    lambda n,d: qp.DigitalNetB2(d,randomize=\"LMS_DS\",replications=r,seed=seed,alpha=2).gen_samples(n),\n",
    "    lambda n,d: qp.DigitalNetB2(d,randomize=\"LMS_DS\",replications=r,seed=seed,alpha=3).gen_samples(n),]\n",
    "transforms = [\n",
    "    None,\n",
    "    \"BAKER\",\n",
    "    None,\n",
    "    None,\n",
    "    None]\n",
    "names_noho = [\n",
    "    \"IID\",\n",
    "    \"Lattice + Shift\",\n",
    "    r\"DN${}_{2}$ + LMS + DS\",\n",
    "    r\"HO${}_2$ DN${}_{2}$ + LMS + DS\",\n",
    "    r\"HO${}_3$ DN${}_{2}$ + LMS + DS\"]\n",
    "data_noho = [convergence_block(func,transforms,pointsets_noho_fns,names_noho) for func in funcs]"
   ]
  },
  {
   "cell_type": "code",
   "execution_count": null,
   "metadata": {},
   "outputs": [],
   "source": [
    "fig,ax = pyplot.subplots(nrows=2,ncols=3,figsize=(3*5,2*4.5),sharey=False,sharex=True)\n",
    "ax = np.atleast_1d(ax)\n",
    "mvec = np.arange(0,m_max+1)\n",
    "nvec = 2**mvec\n",
    "linewidth = 3\n",
    "markers = [\"o\",\"x\",\"^\",\"D\",\"*\"]\n",
    "for ii in range(nfuncs):\n",
    "    i1,i2 = ii//3,ii%3\n",
    "    t_noho,muhat_noho,rmse_noho = data_noho[ii]\n",
    "    avgi = rmse_noho[:,mvec[0]].mean()\n",
    "    for j in range(len(t_noho)):\n",
    "        ax[i1,i2].plot(nvec,rmse_noho[j,mvec],label=(names_noho[j] if i1==i2==0 else None),linewidth=linewidth,color=colors[j],marker=markers[j])\n",
    "\n",
    "    # ax[i,1].plot(nvec,rmse_dnb2_lms_ds_ho[0,mvec],label=names_dnb2_lms_ds_ho_fns[0],linewidth=linewidth,color=colors[0])\n",
    "    # ax[i,1].plot(nvec,rmse_dnb2_lms_ds_ho[1,mvec],label=names_dnb2_lms_ds_ho_fns[1],linewidth=linewidth,color=colors[1])\n",
    "    # ax[i,1].plot(nvec,rmse_dnb2_lms_ds_ho[2,mvec],label=names_dnb2_lms_ds_ho_fns[2],linewidth=linewidth,color=colors[2])\n",
    "    # ax[i,1].plot(nvec,rmse_dnb2_lms_ds_ho[3,mvec],label=names_dnb2_lms_ds_ho_fns[3],linewidth=linewidth,color=colors[3])\n",
    "    # ax[i,1].plot(nvec,rmse_dnb2_lms_ds_ho[4,mvec],label=names_dnb2_lms_ds_ho_fns[4],linewidth=linewidth,color=colors[4])\n",
    "\n",
    "    # t_dnb2_nus_ho,muhat_dnb2_nus_ho,rmse_dnb2_nus_ho = convergence_block(d,func,pointsets_dnb2_nus_ho_fns,names_dnb2_nus_ho)\n",
    "    # ax[i,2].plot(nvec,rmse_dnb2_nus_ho[0,mvec],label=names_dnb2_nus_ho[0],linewidth=linewidth,color=colors[0])\n",
    "    # ax[i,2].plot(nvec,rmse_dnb2_nus_ho[1,mvec],label=names_dnb2_nus_ho[1],linewidth=linewidth,color=colors[1])\n",
    "    # ax[i,2].plot(nvec,rmse_dnb2_nus_ho[2,mvec],label=names_dnb2_nus_ho[2],linewidth=linewidth,color=colors[2])\n",
    "\n",
    "    for p,sp in zip([-1/2,-1.,-3/2,-5/2,-7/2],[\"-1/2\",\"-1\",\"-3/2\",\"-5/2\",\"-7/2\"]):\n",
    "        n0 = 2**mvec[0]\n",
    "        kappa = avgi/(n0**p)\n",
    "        nf = 2**mvec[-1]\n",
    "        lf = kappa*nf**p\n",
    "        ax[i1,i2].plot([nvec[0],nf],[kappa*n0**p,lf],color=\"gray\",linewidth=1)#,alpha=.5)\n",
    "        if i2==2:\n",
    "            ax[i1,i2].text(2*nf,lf,r\"$\\mathcal{O}(n^{%s})$\"%sp,fontsize=\"xx-large\")\n",
    "    ax[i1,i2].set_yscale('log',base=10)\n",
    "    ax[i1,i2].set_xlabel(r\"$n$\",fontsize=\"xx-large\")\n",
    "    ax[i1,i2].set_title(func_names[ii],fontsize=\"xx-large\");\n",
    "for i in range(3):\n",
    "    ax[0,i].xaxis.set_tick_params(labelleft=True)\n",
    "for i in range(2):\n",
    "    ax[i,0].set_ylabel(\"RMSE\",fontsize=\"xx-large\")\n",
    "fig.legend(frameon=False,loc=\"lower center\",bbox_to_anchor=(.5,-.075),ncol=5,fontsize=\"xx-large\")\n",
    "ax[0,0].set_xscale('log',base=2)\n",
    "fig.tight_layout()\n",
    "fig.savefig(\"outputs/convergence.eps\",bbox_inches=\"tight\",format=\"eps\")"
   ]
  },
  {
   "cell_type": "markdown",
   "metadata": {},
   "source": [
    "## Kernel Methods"
   ]
  },
  {
   "cell_type": "code",
   "execution_count": null,
   "metadata": {},
   "outputs": [],
   "source": [
    "nrows = 2\n",
    "ncols = 4\n",
    "m = 8\n",
    "n = 2**m\n",
    "fig = pyplot.figure(figsize=(4*ncols,4*nrows),constrained_layout=True)\n",
    "subfigs = fig.subfigures(nrows=2,ncols=1)\n",
    "subfigs[0].suptitle(r\"shift-invariant $K(u,v) = \\tilde{K}((u-v) \\;\\;\\mathrm{mod}\\; 1)$\",fontsize=\"xx-large\")\n",
    "subfigs[1].suptitle(r\"digitally-shift-invariant $K(u,v) = \\tilde{K}(u \\oplus v)$\",fontsize=\"xx-large\")\n",
    "ax = np.vstack([subfigs[0].subplots(ncols=4),subfigs[1].subplots(ncols=4)])\n",
    "xi = np.arange(n) \n",
    "xf = xi/n\n",
    "x1im,x2im = np.meshgrid(xi,xi)\n",
    "x1i,x2i = x1im.reshape((-1,1)),x2im.reshape((-1,1))\n",
    "x1m,x2m = x1im/n,x2im/n\n",
    "x1,x2 = x1m.flatten(),x2m.flatten()\n",
    "# lattice \n",
    "for i,alpha in enumerate([1,2,3]):\n",
    "    kernel_l = lambda x,z: 1+(2*np.pi*np.ones(2*alpha)/np.arange(1,2*alpha+1)).prod()/((-1)**(alpha+1))*qp.util.bernoulli_poly(2*alpha,(x-z)%1)\n",
    "    y = kernel_l(xf,xf[0])\n",
    "    ax[0,0].plot(xf,y,label=r\"$\\alpha = %d$\"%alpha,linewidth=5,color=colors[i])#,alpha=.4)\n",
    "    ym = kernel_l(x1,x2).reshape((n,n))\n",
    "    ax[0,i+1].contourf(x1m,x2m,ym,cmap=\"plasma\",levels=100)#,antialiased=True)\n",
    "    ax[0,i+1].set_title(r\"$\\alpha = %d$\"%alpha)\n",
    "# digital net\n",
    "for i,alpha in enumerate([2,3,4]):\n",
    "    kernel_d = lambda x,z: qp.util.weighted_walsh_funcs(alpha,x^z,t=m)\n",
    "    y = kernel_d(xi,xi[0])\n",
    "    y[2**np.arange(m)] = np.nan\n",
    "    ax[1,0].plot(xf,y,label=r\"$\\alpha = %d$\"%alpha,linewidth=5,color=colors[i])#,alpha=.4)\n",
    "    ym = kernel_d(x1i,x2i).reshape((n,n))\n",
    "    ax[1,i+1].contourf(x1m,x2m,ym,cmap=\"plasma\",levels=100)#,antialiased=True)\n",
    "    ax[1,i+1].set_title(r\"$\\alpha = %d$\"%alpha)\n",
    "for i in range(nrows):\n",
    "    ax[i,0].legend(frameon=False,ncol=1,fontsize=\"large\")\n",
    "    ax[i,0].set_xlabel(r\"$\\delta$\",fontsize=\"xx-large\")\n",
    "    ax[i,0].set_ylabel(r\"$\\tilde{K}(\\delta)$\",fontsize=\"xx-large\")\n",
    "    for j in range(ncols):\n",
    "        ax[i,j].set_xlim([0,1]); ax[i,j].set_xticks([0,.25,.5,.75,1])\n",
    "        if j>=1:\n",
    "            for spine in ax[i,j].spines.values(): spine.set_visible(False)\n",
    "            ax[i,j].set_ylim([0,1]); ax[i,j].set_yticks([0,.25,.5,.75,1])\n",
    "            ax[i,j].set_xlabel(r\"$u$\",fontsize=\"xx-large\")\n",
    "            ax[i,j].set_ylabel(r\"$v$\",fontsize=\"xx-large\")\n",
    "fig.savefig(\"outputs/kernels.eps\",bbox_inches=\"tight\",format=\"eps\")"
   ]
  },
  {
   "cell_type": "code",
   "execution_count": null,
   "metadata": {},
   "outputs": [],
   "source": []
  }
 ],
 "metadata": {
  "kernelspec": {
   "display_name": "qmcpy",
   "language": "python",
   "name": "python3"
  },
  "language_info": {
   "codemirror_mode": {
    "name": "ipython",
    "version": 3
   },
   "file_extension": ".py",
   "mimetype": "text/x-python",
   "name": "python",
   "nbconvert_exporter": "python",
   "pygments_lexer": "ipython3",
   "version": "3.9.13"
  }
 },
 "nbformat": 4,
 "nbformat_minor": 4
}
