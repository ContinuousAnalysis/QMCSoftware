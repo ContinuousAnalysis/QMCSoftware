{
 "cells": [
  {
   "cell_type": "markdown",
   "id": "bc36cba3-6539-426e-b4d4-8e0dc6c9491f",
   "metadata": {},
   "source": [
    "try out stopping"
   ]
  },
  {
   "cell_type": "code",
   "execution_count": 1,
   "id": "3508877c-cb33-46b7-906d-3c1fa728476d",
   "metadata": {
    "tags": []
   },
   "outputs": [
    {
     "name": "stdout",
     "output_type": "stream",
     "text": [
      "running some code\n"
     ]
    }
   ],
   "source": [
    "import qmcpy as qp\n",
    "print('running some code')"
   ]
  },
  {
   "cell_type": "code",
   "execution_count": 2,
   "id": "c3edf3ad-5175-4582-92d0-516635536e51",
   "metadata": {
    "tags": []
   },
   "outputs": [
    {
     "name": "stdin",
     "output_type": "stream",
     "text": [
      "Type 'yes' to continue long code no\n"
     ]
    },
    {
     "ename": "SystemExit",
     "evalue": "Stopping execution",
     "output_type": "error",
     "traceback": [
      "An exception has occurred, use %tb to see the full traceback.\n",
      "\u001b[0;31mSystemExit\u001b[0m\u001b[0;31m:\u001b[0m Stopping execution\n"
     ]
    }
   ],
   "source": [
    "qp.stop_notebook(\"Type 'yes' to run long code\")"
   ]
  },
  {
   "cell_type": "code",
   "execution_count": null,
   "id": "0f0fcfac-10c0-499a-8d16-56c254fd97c7",
   "metadata": {
    "tags": []
   },
   "outputs": [],
   "source": [
    "print('running long code')"
   ]
  },
  {
   "cell_type": "code",
   "execution_count": null,
   "id": "938c7399-8574-4004-9ca7-6c28e9308637",
   "metadata": {},
   "outputs": [],
   "source": [
    "fred = qp.Lattice()"
   ]
  },
  {
   "cell_type": "code",
   "execution_count": null,
   "id": "f09f7a5e-cfc7-4a96-9c41-00d9718efba8",
   "metadata": {
    "tags": []
   },
   "outputs": [],
   "source": [
    "print(fred)"
   ]
  },
  {
   "cell_type": "code",
   "execution_count": null,
   "id": "bcdd96cf-6e9f-461c-ae71-261ff5c397a5",
   "metadata": {},
   "outputs": [],
   "source": []
  }
 ],
 "metadata": {
  "kernelspec": {
   "display_name": "Python 3 (ipykernel)",
   "language": "python",
   "name": "python3"
  },
  "language_info": {
   "codemirror_mode": {
    "name": "ipython",
    "version": 3
   },
   "file_extension": ".py",
   "mimetype": "text/x-python",
   "name": "python",
   "nbconvert_exporter": "python",
   "pygments_lexer": "ipython3",
   "version": "3.9.13"
  }
 },
 "nbformat": 4,
 "nbformat_minor": 5
}
