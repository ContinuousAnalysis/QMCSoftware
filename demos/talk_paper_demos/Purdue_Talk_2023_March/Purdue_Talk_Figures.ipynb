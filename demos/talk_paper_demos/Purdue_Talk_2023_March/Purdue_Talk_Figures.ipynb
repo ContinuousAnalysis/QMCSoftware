{
 "cells": [
  {
   "cell_type": "markdown",
   "id": "c3addb96",
   "metadata": {},
   "source": [
    "<strong><font size=\"6\"> Computations and Figures for a Department of Statistics Colloquim at Purdue University </font></strong>\n",
    "\n",
    "<font size=\"5\">presented on Friday, March 3, 2023 </font>\n"
   ]
  },
  {
   "cell_type": "markdown",
   "id": "4028c8f1",
   "metadata": {},
   "source": [
    "# Import the necessary packages and set up plotting routines"
   ]
  },
  {
   "cell_type": "code",
   "execution_count": 1,
   "id": "e7dd159a",
   "metadata": {
    "tags": []
   },
   "outputs": [
    {
     "ename": "ModuleNotFoundError",
     "evalue": "No module named 'matplotlib'",
     "output_type": "error",
     "traceback": [
      "\u001b[0;31m---------------------------------------------------------------------------\u001b[0m",
      "\u001b[0;31mModuleNotFoundError\u001b[0m                       Traceback (most recent call last)",
      "Cell \u001b[0;32mIn[1], line 1\u001b[0m\n\u001b[0;32m----> 1\u001b[0m \u001b[38;5;28;01mimport\u001b[39;00m \u001b[38;5;21;01mmatplotlib\u001b[39;00m\u001b[38;5;21;01m.\u001b[39;00m\u001b[38;5;21;01mpyplot\u001b[39;00m \u001b[38;5;28;01mas\u001b[39;00m \u001b[38;5;21;01mplt\u001b[39;00m\n\u001b[1;32m      2\u001b[0m \u001b[38;5;28;01mimport\u001b[39;00m \u001b[38;5;21;01mnumpy\u001b[39;00m \u001b[38;5;28;01mas\u001b[39;00m \u001b[38;5;21;01mnp\u001b[39;00m\n\u001b[1;32m      3\u001b[0m \u001b[38;5;28;01mimport\u001b[39;00m \u001b[38;5;21;01mqmcpy\u001b[39;00m \u001b[38;5;28;01mas\u001b[39;00m \u001b[38;5;21;01mqp\u001b[39;00m\n",
      "\u001b[0;31mModuleNotFoundError\u001b[0m: No module named 'matplotlib'"
     ]
    }
   ],
   "source": [
    "import matplotlib.pyplot as plt\n",
    "import numpy as np\n",
    "import qmcpy as qp\n",
    "import time  #timing routines\n",
    "import warnings  #to suppress warnings when needed\n",
    "import pickle  #write output to a file and load it back in\n",
    "from copy import deepcopy\n",
    "\n",
    "plt.rc('font', size=16)  #set defaults so that the plots are readable\n",
    "plt.rc('axes', titlesize=16)\n",
    "plt.rc('axes', labelsize=16)\n",
    "plt.rc('xtick', labelsize=16)\n",
    "plt.rc('ytick', labelsize=16)\n",
    "plt.rc('legend', fontsize=16)\n",
    "plt.rc('figure', titlesize=16)\n",
    "\n",
    "#a helpful plotting method to show increasing numbers of points\n",
    "def plot_successive_points(distrib,ld_name,first_n=64,n_cols=1,\n",
    "                           pt_clr=['tab:blue', 'tab:green', 'k', 'tab:cyan', 'tab:purple', 'tab:orange'],\n",
    "                           xlim=[0,1],ylim=[0,1]):\n",
    "  fig,ax = plt.subplots(nrows=1,ncols=n_cols,figsize=(5*n_cols,5.5))\n",
    "  if n_cols==1: ax = [ax]\n",
    "  last_n = first_n*(2**n_cols)\n",
    "  points = distrib.gen_samples(n=last_n)\n",
    "  for i in range(n_cols):\n",
    "    n = first_n\n",
    "    nstart = 0\n",
    "    for j in range(i+1):\n",
    "      n = first_n*(2**j)\n",
    "      ax[i].scatter(points[nstart:n,0],points[nstart:n,1],color=pt_clr[j])\n",
    "      nstart = n\n",
    "    ax[i].set_title('n = %d'%n)\n",
    "    ax[i].set_xlim(xlim); ax[i].set_xticks(xlim); ax[i].set_xlabel('$x_{i,1}$')\n",
    "    ax[i].set_ylim(ylim); ax[i].set_yticks(ylim); ax[i].set_ylabel('$x_{i,2}$')\n",
    "    ax[i].set_aspect((xlim[1]-xlim[0])/(ylim[1]-ylim[0]))\n",
    "  fig.suptitle('%s Points'%ld_name, y=0.87)\n",
    "  return fig\n",
    "\n",
    "print('QMCPy Version',qp.__version__)"
   ]
  },
  {
   "cell_type": "markdown",
   "id": "1ac0594a",
   "metadata": {},
   "source": [
    "## Set the path to save the figures here"
   ]
  },
  {
   "cell_type": "code",
   "execution_count": null,
   "id": "5111ee7b",
   "metadata": {
    "tags": []
   },
   "outputs": [],
   "source": [
    "figpath = '' #this path sends the figures to the directory that you want"
   ]
  },
  {
   "cell_type": "markdown",
   "id": "44662981",
   "metadata": {},
   "source": [
    "# Here are some plots of IID and Low Discrepancy (LD) Points\n",
    "## Lattice points first"
   ]
  },
  {
   "cell_type": "code",
   "execution_count": null,
   "id": "3525a3ef",
   "metadata": {
    "tags": []
   },
   "outputs": [],
   "source": [
    "d = 5 #dimension\n",
    "n = 16 #number of points\n",
    "ld = qp.Lattice(d) #define the generator\n",
    "xpts = ld.gen_samples(n) #generate points\n",
    "print(xpts)\n",
    "fig = plot_successive_points(ld,'Lattice',first_n=n,n_cols=4)\n",
    "fig.savefig(figpath+'latticepts.eps',format='eps')"
   ]
  },
  {
   "cell_type": "markdown",
   "id": "5cdd79e6",
   "metadata": {},
   "source": [
    "## Next Sobol' points"
   ]
  },
  {
   "cell_type": "code",
   "execution_count": null,
   "id": "b9370f43",
   "metadata": {
    "tags": []
   },
   "outputs": [],
   "source": [
    "ld = qp.Sobol(d) #define the generator\n",
    "xpts_Sobol = ld.gen_samples(n) #generate points\n",
    "fig = plot_successive_points(ld,'Sobol\\'',first_n=n,n_cols=4)\n",
    "fig.savefig(figpath+'sobolpts.eps',format='eps')"
   ]
  },
  {
   "cell_type": "markdown",
   "id": "502da683",
   "metadata": {},
   "source": [
    "## Compare to IID\n",
    "\n",
    "Note that there are more gaps and clusters"
   ]
  },
  {
   "cell_type": "code",
   "execution_count": null,
   "id": "d32d33f5",
   "metadata": {
    "tags": []
   },
   "outputs": [],
   "source": [
    "iid = qp.IIDStdUniform(d) #define the generator\n",
    "xpts = ld.gen_samples(n) #generate points\n",
    "xpts\n",
    "fig = plot_successive_points(iid,'IID',first_n=n,n_cols=4)\n",
    "fig.savefig(figpath+'iidpts.eps',format='eps')"
   ]
  },
  {
   "cell_type": "markdown",
   "id": "eb973832",
   "metadata": {},
   "source": [
    "# Beam Example Figures\n",
    "\n",
    "Using computations done below"
   ]
  },
  {
   "cell_type": "markdown",
   "id": "78bfa258",
   "metadata": {},
   "source": [
    "## First we compute the time required to solve for the deflection of the end point using IID and low discrepancy "
   ]
  },
  {
   "cell_type": "code",
   "execution_count": null,
   "id": "ee1db5f5",
   "metadata": {},
   "outputs": [],
   "source": [
    "ld = qp.Uniform(qp.Lattice(d,seed=7),lower_bound=1,upper_bound=1.2) #lattice points for this problem\n",
    "ld_integ = qp.UMBridgeWrapper(ld,model,umbridge_config,parallel=False) #integrand\n",
    "tol = 0.02  #smallest tolerance\n",
    "\n",
    "n_tol = 8\n",
    "#ii_iid = 2  #make this larger to reduce the time required\n",
    "tol_vec = [tol*(2**ii) for ii in range(n_tol)]  #initialize vector of tolerances\n",
    "ld_time = [0]*n_tol; ld_n = [0]*n_tol  #low discrepancy time and number of function values\n",
    "#iid_time = [0]*n_tol; iid_n = [0]*n_tol  #IID time and number of function values\n",
    "for ii in range(n_tol):\n",
    "  solution, data = qp.CubQMCLatticeG(ld_integ, abs_tol = tol_vec[ii]).integrate()\n",
    "  if ii == 0: \n",
    "    print(f'\\nCantilever Beam\\n')\n",
    "  ld_time[ii] = data.time_integrate\n",
    "  ld_n[ii] = data.n_total\n",
    "  #if ii >= ii_iid:\n",
    "  #  solution, data = qmcpy.CubMCG(iid_keister, abs_tol = tol_vec[ii]).integrate()\n",
    "  #  iid_time[ii] = data.time_integrate\n",
    "  #  iid_n[ii] = data.n_total\n",
    "fig,ax = plt.subplots(nrows=1,ncols=2,figsize=(13,5.5))\n",
    "ax[0].scatter(tol_vec[0:n_tol],ld_time[0:n_tol],color='b'); \n",
    "ax[0].plot(tol_vec[0:n_tol],[(ld_time[0]*tol_vec[0])/tol_vec[jj] for jj in range(n_tol)],color='b')\n",
    "#ax[0].scatter(tol_vec[ii_iid:n_tol],iid_time[ii_iid:n_tol],color='g'); \n",
    "#ax[0].plot(tol_vec[ii_iid:n_tol],[(iid_time[ii_iid]*(tol_vec[ii_iid]**2))/(tol_vec[jj]**2) for jj in range(ii_iid,n_tol)],color='g')\n",
    "ax[0].set_ylim([0.001,1000]); ax[0].set_ylabel('Time (s)')\n",
    "ax[1].scatter(tol_vec[0:n_tol],ld_n[0:n_tol],color='b'); \n",
    "ax[1].plot(tol_vec[0:n_tol],[(ld_n[0]*tol_vec[0])/tol_vec[jj] for jj in range(n_tol)],color='b')\n",
    "#ax[1].scatter(tol_vec[ii_iid:n_tol],iid_n[ii_iid:n_tol],color='g'); \n",
    "#ax[1].plot(tol_vec[ii_iid:n_tol],[(iid_n[ii_iid]*(tol_vec[ii_iid]**2))/(tol_vec[jj]**2) for jj in range(ii_iid,n_tol)],color='g')\n",
    "ax[1].set_ylim([1e2,1e8]); ax[1].set_ylabel('n')\n",
    "for ii in range(2):\n",
    "  ax[ii].set_xlim([tol,100*tol]); ax[ii].set_xlabel('Tolerance, '+r'$\\varepsilon$')\n",
    "  ax[ii].set_xscale('log'); ax[ii].set_yscale('log')\n",
    "  ax[ii].legend([r'$\\mathcal{O}(\\varepsilon^{-1})$',r'$\\mathcal{O}(\\varepsilon^{-2})$','LD','IID'],frameon=False)\n",
    "  ax[ii].set_aspect(0.35)"
   ]
  },
  {
   "cell_type": "code",
   "execution_count": null,
   "id": "d19fc1bb",
   "metadata": {},
   "outputs": [],
   "source": [
    "print(data)"
   ]
  },
  {
   "cell_type": "code",
   "execution_count": null,
   "id": "5a09e26b",
   "metadata": {},
   "outputs": [],
   "source": [
    "ld_integ_p = qp.UMBridgeWrapper(ld,model,umbridge_config,parallel=8) #integrand with parallel processing\n",
    "\n",
    "ld_p_time = [0]*n_tol; ld_p_n = [0]*n_tol  #low discrepancy time and number of function values with parallel\n",
    "for ii in range(n_tol):\n",
    "  solution, data = qp.CubQMCLatticeG(ld_integ_p, abs_tol = tol_vec[ii]).integrate()\n",
    "  if ii == 0: \n",
    "    print(f'\\nCantilever Beam\\n')\n",
    "  ld_p_time[ii] = data.time_integrate\n",
    "  ld_p_n[ii] = data.n_total\n",
    "  #if ii >= ii_iid:\n",
    "  #  solution, data = qmcpy.CubMCG(iid_keister, abs_tol = tol_vec[ii]).integrate()\n",
    "  #  iid_time[ii] = data.time_integrate\n",
    "  #  iid_n[ii] = data.n_total\n",
    "fig,ax = plt.subplots(nrows=1,ncols=2,figsize=(13,5.5))\n",
    "ax[0].scatter(tol_vec[0:n_tol],ld_time[0:n_tol],color='b'); \n",
    "ax[0].plot(tol_vec[0:n_tol],[(ld_time[0]*tol_vec[0])/tol_vec[jj] for jj in range(n_tol)],color='b')\n",
    "ax[0].scatter(tol_vec[0:n_tol],ld_p_time[0:n_tol],color='r'); \n",
    "ax[0].plot(tol_vec[0:n_tol],[(ld_p_time[0]*tol_vec[0])/tol_vec[jj] for jj in range(n_tol)],color='r')\n",
    "#ax[0].scatter(tol_vec[ii_iid:n_tol],iid_time[ii_iid:n_tol],color='g'); \n",
    "#ax[0].plot(tol_vec[ii_iid:n_tol],[(iid_time[ii_iid]*(tol_vec[ii_iid]**2))/(tol_vec[jj]**2) for jj in range(ii_iid,n_tol)],color='g')\n",
    "ax[0].set_ylim([0.001,1000]); ax[0].set_ylabel('Time (s)')\n",
    "ax[1].scatter(tol_vec[0:n_tol],ld_n[0:n_tol],color='b'); \n",
    "ax[1].plot(tol_vec[0:n_tol],[(ld_n[0]*tol_vec[0])/tol_vec[jj] for jj in range(n_tol)],color='b')\n",
    "ax[1].scatter(tol_vec[0:n_tol],ld_p_n[0:n_tol],color='r'); \n",
    "ax[1].plot(tol_vec[0:n_tol],[(ld_p_n[0]*tol_vec[0])/tol_vec[jj] for jj in range(n_tol)],color='r')\n",
    "#ax[1].scatter(tol_vec[ii_iid:n_tol],iid_n[ii_iid:n_tol],color='g'); \n",
    "#ax[1].plot(tol_vec[ii_iid:n_tol],[(iid_n[ii_iid]*(tol_vec[ii_iid]**2))/(tol_vec[jj]**2) for jj in range(ii_iid,n_tol)],color='g')\n",
    "ax[1].set_ylim([1e2,1e8]); ax[1].set_ylabel('n')\n",
    "for ii in range(2):\n",
    "  ax[ii].set_xlim([tol,100*tol]); ax[ii].set_xlabel('Tolerance, '+r'$\\varepsilon$')\n",
    "  ax[ii].set_xscale('log'); ax[ii].set_yscale('log')\n",
    "  ax[ii].legend([r'$\\mathcal{O}(\\varepsilon^{-1})$',r'$\\mathcal{O}(\\varepsilon^{-2})$','LD','IID'],frameon=False)\n",
    "  ax[ii].set_aspect(0.35)"
   ]
  },
  {
   "cell_type": "code",
   "execution_count": null,
   "id": "a1504741",
   "metadata": {},
   "outputs": [],
   "source": [
    "!docker rm -f muqbp #shut down docker image"
   ]
  },
  {
   "cell_type": "code",
   "execution_count": null,
   "id": "5d669292",
   "metadata": {},
   "outputs": [],
   "source": [
    "run_long_computations = input(\"Type 'yes' to continue execution and run long calculations\")\n",
    "if run_long_computations.casefold() != 'yes':\n",
    "    import warnings\n",
    "    warnings.filterwarnings(\"ignore\")\n",
    "    sys.exit('Stopping execution for now')"
   ]
  },
  {
   "cell_type": "markdown",
   "id": "d77d4065",
   "metadata": {
    "tags": []
   },
   "source": [
    "<font size=\"5\"> Below is long-running code, that we rarely wish to run </font>"
   ]
  },
  {
   "cell_type": "markdown",
   "id": "52045e0f-4b62-4e70-bbf2-578080ffea3e",
   "metadata": {},
   "source": [
    "# Beam Example Computations\n",
    "## Set up the problem using a docker container to solve the ODE\n",
    "\n",
    "To run this, you need to be running the docker application, https://www.docker.com/products/docker-desktop/"
   ]
  },
  {
   "cell_type": "code",
   "execution_count": null,
   "id": "97a709ca",
   "metadata": {
    "tags": []
   },
   "outputs": [],
   "source": [
    "import umbridge #this is the connector\n",
    "!docker run --name muqbp -d -it -p 4243:4243 linusseelinger/benchmark-muq-beam-propagation:latest #get beam example\n",
    "d = 3 #dimension of the randomness\n",
    "lb = 1 #lower bound on randomness\n",
    "ub = 1.2 #upper bound on randomness\n",
    "umbridge_config = {\"d\": d}\n",
    "model = umbridge.HTTPModel('http://localhost:4243','forward') #this is the original model\n",
    "outindex = -1 #choose last element of the vector of beam deflections\n",
    "modeli = deepcopy(model) #and construct a model for just that deflection\n",
    "modeli.get_output_sizes = lambda *args : [1]\n",
    "modeli.get_output_sizes()\n",
    "modeli.__call__ = lambda *args,**kwargs: [[model.__call__(*args,**kwargs)[0][outindex]]]"
   ]
  },
  {
   "cell_type": "markdown",
   "id": "15d8d731-e5dc-490e-8148-c496d91d297a",
   "metadata": {},
   "source": [
    "## First we compute the time required to solve for the deflection of the end point using IID and low discrepancy "
   ]
  },
  {
   "cell_type": "code",
   "execution_count": null,
   "id": "e35afae0-ded6-4343-b223-101c37be3303",
   "metadata": {},
   "outputs": [],
   "source": [
    "ld = qp.Uniform(qp.Lattice(d,seed=7),lower_bound=lb,upper_bound=ub) #lattice points for this problem\n",
    "ld_integ = qp.UMBridgeWrapper(ld,modeli,umbridge_config,parallel=False) #integrand\n",
    "iid = qp.Uniform(qp.IIDStdUniform(d),lower_bound=lb,upper_bound=ub) #iid points for this problem\n",
    "iid_integ = qp.UMBridgeWrapper(iid,modeli,umbridge_config,parallel=False) #integrand\n",
    "tol = 0.01  #smallest tolerance\n",
    "\n",
    "n_tol = 14  #number of different tolerances\n",
    "ii_iid = 9  #make this larger to reduce the time required by not running all cases for IID\n",
    "tol_vec = [tol*(2**ii) for ii in range(n_tol)]  #initialize vector of tolerances\n",
    "ld_time = [0]*n_tol; ld_n = [0]*n_tol  #low discrepancy time and number of function values\n",
    "iid_time = [0]*n_tol; iid_n = [0]*n_tol  #IID time and number of function values\n",
    "print(f'\\nCantilever Beam\\n')\n",
    "print('iteration ', end = '')\n",
    "for ii in range(n_tol):\n",
    "  solution, data = qp.CubQMCLatticeG(ld_integ, abs_tol = tol_vec[ii]).integrate()\n",
    "  if ii == 0:\n",
    "    best_solution_i = solution\n",
    "  ld_time[ii] = data.time_integrate\n",
    "  ld_n[ii] = data.n_total\n",
    "  if ii >= ii_iid:\n",
    "    solution, data = qp.CubMCG(iid_integ, abs_tol = tol_vec[ii]).integrate()\n",
    "    iid_time[ii] = data.time_integrate\n",
    "    iid_n[ii] = data.n_total\n",
    "  print(ii, end = ' ')\n",
    "with open(figpath+'iid_ld.pkl','wb') as myfile:pickle.dump([tol_vec,n_tol,ii_iid,ld_time,ld_n,iid_time,iid_n,best_solution_i],myfile)"
   ]
  },
  {
   "cell_type": "markdown",
   "id": "7d1ccf14-0441-4a21-8cb3-5494dea3ae39",
   "metadata": {},
   "source": [
    "## Next, we compute the time required to solve for the deflection of the whole beam using low discrepancy with and without parallel"
   ]
  },
  {
   "cell_type": "code",
   "execution_count": null,
   "id": "5c657f84-b16e-4ba6-9e89-edf07dc61a37",
   "metadata": {},
   "outputs": [],
   "source": [
    "ld_integ = qp.UMBridgeWrapper(ld,model,umbridge_config,parallel=False) #integrand\n",
    "ld_integ_p = qp.UMBridgeWrapper(ld,model,umbridge_config,parallel=8) #integrand with parallel processing\n",
    "\n",
    "tol = 0.01\n",
    "n_tol = 9  #number of different tolerances\n",
    "tol_vec = [tol*(2**ii) for ii in range(n_tol)]  #initialize vector of tolerances\n",
    "ld_time = [0]*n_tol; ld_n = [0]*n_tol  #low discrepancy time and number of function values\n",
    "ld_p_time = [0]*n_tol; ld_p_n = [0]*n_tol  #low discrepancy time and number of function values with parallel\n",
    "print(f'\\nCantilever Beam\\n')\n",
    "print('iteration ', end = '')\n",
    "for ii in range(n_tol):\n",
    "  solution, data = qp.CubQMCLatticeG(ld_integ, abs_tol = tol_vec[ii]).integrate()\n",
    "  if ii == 0:\n",
    "    best_solution = solution\n",
    "  ld_time[ii] = data.time_integrate\n",
    "  ld_n[ii] = data.n_total\n",
    "  solution, data = qp.CubQMCLatticeG(ld_integ_p, abs_tol = tol_vec[ii]).integrate()\n",
    "  ld_p_time[ii] = data.time_integrate\n",
    "  ld_p_n[ii] = data.n_total\n",
    "  print(ii, end = ' ') \n",
    "with open(figpath+'ld_parallel.pkl','wb') as myfile:pickle.dump([tol_vec,n_tol,ld_time,ld_n,ld_p_time,ld_p_n,best_solution],myfile)"
   ]
  },
  {
   "cell_type": "markdown",
   "id": "3f75fc31-3011-4d17-9ee7-d02222cb4d09",
   "metadata": {
    "tags": []
   },
   "source": [
    "## Shut down docker"
   ]
  },
  {
   "cell_type": "code",
   "execution_count": null,
   "id": "96d368f8-a024-463d-bcbe-f82adae44608",
   "metadata": {
    "tags": []
   },
   "outputs": [],
   "source": [
    "!docker rm -f muqbp #shut down docker image"
   ]
  }
 ],
 "metadata": {
  "kernelspec": {
   "display_name": "Python 3 (ipykernel)",
   "language": "python",
   "name": "python3"
  },
  "language_info": {
   "codemirror_mode": {
    "name": "ipython",
    "version": 3
   },
   "file_extension": ".py",
   "mimetype": "text/x-python",
   "name": "python",
   "nbconvert_exporter": "python",
   "pygments_lexer": "ipython3",
   "version": "3.9.13"
  },
  "toc-autonumbering": true,
  "vscode": {
   "interpreter": {
    "hash": "d6210ff810bbb4335775daff4adcd74f4866192acd7028addebb11bb0f8901ea"
   }
  }
 },
 "nbformat": 4,
 "nbformat_minor": 5
}
