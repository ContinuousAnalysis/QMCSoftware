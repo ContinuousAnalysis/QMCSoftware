{
 "cells": [
  {
   "cell_type": "markdown",
   "id": "0abfe645-cd6b-4ebf-abbb-01e2c7e329ce",
   "metadata": {},
   "source": [
    "# Kernel methods for a 2 dimensional elliptic PDE\n",
    "\n",
    "Here we will solve the PDE\n",
    "\n",
    "$$\\begin{cases} C_1 \\Delta u + C_2 u^3 = f, & \\boldsymbol{x} \\in [0,1]^d \\\\ u = 0, &\\boldsymbol{x} \\in \\partial [0,1]^d \\end{cases}$$\n",
    "\n",
    "where $\\Delta$ is the Laplacian. "
   ]
  },
  {
   "cell_type": "markdown",
   "id": "59d7d4ee-454d-47c6-8ab3-2a45c0bb88ad",
   "metadata": {},
   "source": [
    "## Imports"
   ]
  },
  {
   "cell_type": "markdown",
   "id": "8f749495-e622-4680-bcf3-10b6a7af4b94",
   "metadata": {},
   "source": [
    "### 2 dimensional \n",
    "\n",
    "For the two dimensional problem we set \n",
    "$$u(\\boldsymbol{x}) = \\exp\\left(-\\frac{1}{1-r^2}\\right)\\left[\\sin(\\pi x_1)\\sin(\\pi x_2)+4\\sin(4\\pi x_1)\\sin(4 \\pi x_2)\\right] 1_{\\boldsymbol{x} \\in (0,1)^2}$$\n",
    "where $r = \\sqrt{(2x_1-1)^2+(2x_2-1)^2}$"
   ]
  },
  {
   "cell_type": "code",
   "execution_count": null,
   "id": "83db0625-a77a-4e76-8b4c-c91a2d2316c1",
   "metadata": {},
   "outputs": [],
   "source": [
    "def u_2d(x):\n",
    "    x1,x2 = x[:,0],x[:,1]\n",
    "    y = torch.zeros_like(x1)\n",
    "    r = torch.sqrt((2*x1-1)**2+(2*x2-1)**2)\n",
    "    b = r<1\n",
    "    t1 = torch.exp(-1/(1-r[b]**2))\n",
    "    t2 = torch.sin(torch.pi*x1[b])*torch.sin(torch.pi*x2[b])\n",
    "    t3 = 4*torch.sin(6*torch.pi*x1[b])*torch.sin(6*torch.pi*x2[b])\n",
    "    y[b] = t1*(t2+t3)\n",
    "    return y\n",
    "def u_laplace_2d(x):\n",
    "    x1g,x2g = x[:,0].clone().requires_grad_(),x[:,1].clone().requires_grad_()\n",
    "    xg = torch.hstack([x1g[:,None],x2g[:,None]])\n",
    "    yg = u_2d(xg)\n",
    "    grad_outputs = torch.ones_like(yg,requires_grad=False)\n",
    "    yp1g = torch.autograd.grad(yg,x1g,grad_outputs,create_graph=True)[0]\n",
    "    yp1p1g = torch.autograd.grad(yp1g,x1g,grad_outputs,create_graph=True)[0]\n",
    "    yp2g = torch.autograd.grad(yg,x2g,grad_outputs,create_graph=True)[0]\n",
    "    yp2p2g = torch.autograd.grad(yp2g,x2g,grad_outputs,create_graph=True)[0]\n",
    "    return (yp1p1g+yp2p2g).detach()\n",
    "def f_2d(x, C1=-1/250, C2=-1):\n",
    "    return C1*u_laplace_2d(x)+C2*u_2d(x)**3\n",
    "x1dticks = torch.linspace(0,1,65,dtype=float)\n",
    "x1mesh,x2mesh = torch.meshgrid(x1dticks,x1dticks,indexing=\"ij\")\n",
    "x1ticks,x2ticks = x1mesh.flatten(),x2mesh.flatten()\n",
    "xticks = torch.hstack([x1ticks[:,None],x2ticks[:,None]])\n",
    "ymesh = u_2d(xticks).reshape(x1mesh.shape)\n",
    "ylmesh = u_laplace_2d(xticks).reshape(x1mesh.shape)\n",
    "fmesh = f_2d(xticks).reshape(x1mesh.shape)\n",
    "fig = pyplot.figure(figsize=(12,8))\n",
    "ax = np.empty((2,3),dtype=object)\n",
    "_gs = gridspec.GridSpec(2,3) \n",
    "for i in range(3): ax[0,i] = fig.add_subplot(_gs[0,i],projection=\"3d\")\n",
    "for i in range(3): ax[1,i] = fig.add_subplot(_gs[1,i])\n",
    "ax[0,0].plot_surface(x1mesh,x2mesh,ymesh,cstride=1,rstride=1,antialiased=False,cmap=cm.plasma)\n",
    "ax[1,0].contourf(x1mesh,x2mesh,ymesh,antialiased=False,cmap=cm.plasma,levels=100)\n",
    "ax[0,1].plot_surface(x1mesh,x2mesh,ylmesh,cstride=1,rstride=1,antialiased=False,cmap=cm.plasma);\n",
    "ax[1,1].contourf(x1mesh,x2mesh,ylmesh,antialiased=False,cmap=cm.plasma,levels=100)\n",
    "ax[0,2].plot_surface(x1mesh,x2mesh,fmesh,cstride=1,rstride=1,antialiased=False,cmap=cm.plasma);\n",
    "ax[1,2].contourf(x1mesh,x2mesh,fmesh,antialiased=False,cmap=cm.plasma,levels=100)\n",
    "ax[0,0].set_title(r\"$u(\\boldsymbol{x})$\")\n",
    "ax[0,1].set_title(r\"$\\Delta u(\\boldsymbol{x})$\")\n",
    "ax[0,2].set_title(r\"$f(\\boldsymbol{x}) = C_1 \\Delta u + C_2 \\tau(u)$\");"
   ]
  }
 ],
 "metadata": {
  "kernelspec": {
   "display_name": "Python 3 (ipykernel)",
   "language": "python",
   "name": "python3"
  },
  "language_info": {
   "codemirror_mode": {
    "name": "ipython",
    "version": 3
   },
   "file_extension": ".py",
   "mimetype": "text/x-python",
   "name": "python",
   "nbconvert_exporter": "python",
   "pygments_lexer": "ipython3",
   "version": "3.9.13"
  }
 },
 "nbformat": 4,
 "nbformat_minor": 5
}
