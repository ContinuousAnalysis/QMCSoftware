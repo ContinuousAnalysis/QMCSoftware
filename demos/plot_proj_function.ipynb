{
 "cells": [
  {
   "cell_type": "markdown",
   "metadata": {},
   "source": [
    "# The QMCPY Plot Projection Function for Discrete Distribution and True Measure"
   ]
  },
  {
   "cell_type": "markdown",
   "metadata": {},
   "source": [
    "This notebook demonstrates the different usages of the plot_proj function for Discrete Distribution and True Measure"
   ]
  },
  {
   "cell_type": "markdown",
   "metadata": {},
   "source": [
    "A Discrete Distribution or True Measure object with d dimensions has a maximum of $d\\times(d-1)$ dimensional pairings (for e.g: [2,3] and [3,2] are being considered seperate parings). The plot_proj function plots all or a subset of all the possible dimension pairings using the parameters d_vertical and d_horizontal and can also display extensibility based on the parameter n. Extensibility occurs when we want to plot the Discrete Distribution or True Measure Object with successively increasing numbers of points. Each set of points is displayed in a different color. This extensibility helps us see how the space fills up."
   ]
  },
  {
   "cell_type": "markdown",
   "metadata": {},
   "source": [
    "### Here we set up the QMCPY environment enabling us to utilize this function:"
   ]
  },
  {
   "cell_type": "code",
   "execution_count": 1,
   "metadata": {},
   "outputs": [],
   "source": [
    "import qmcpy as qp"
   ]
  },
  {
   "cell_type": "markdown",
   "metadata": {},
   "source": [
    "### Here we explain the parameters of the plot_proj function:"
   ]
  },
  {
   "cell_type": "code",
   "execution_count": 2,
   "metadata": {},
   "outputs": [
    {
     "name": "stdout",
     "output_type": "stream",
     "text": [
      "Help on function plot_proj in module qmcpy.util.plot_functions:\n",
      "\n",
      "plot_proj(sampler, n=64, d_horizontal=1, d_vertical=2, math_ind=True, marker_size=5, figfac=5, **kwargs)\n",
      "    Args:\n",
      "        sampler: the Discrete Distribution or the True Measure Object to be plotted\n",
      "        n (int or list): the number of samples or a list of samples(used for extensibility) to be plotted. \n",
      "            Default value is 64\n",
      "        d_horizontal (int or list): the dimension or list of dimensions to be plotted on the horizontal axes. \n",
      "            Default value is 1 (1st dimension).\n",
      "        d_vertical (int or list): the dimension or list of dimensions to be plotted on the vertical axes. \n",
      "            Default value is 2 (2nd dimension).\n",
      "        math_ind : setting it true will enable user to pass in math indices. \n",
      "            Default value is true, so user is required to pass in math indices.\n",
      "        marker_size: the marker size in points**2(typographic points are 1/72 in.).\n",
      "            Default value is 5.\n",
      "        figfac: the figure size factor. Default value is 5\n",
      "        **kwargs : Any extra features the user would like to see in the plots\n",
      "\n"
     ]
    }
   ],
   "source": [
    "help(qp.plot_proj)"
   ]
  },
  {
   "cell_type": "markdown",
   "metadata": {},
   "source": [
    "### The following examples show plotting of different Discrete Distribution Objects:"
   ]
  },
  {
   "cell_type": "markdown",
   "metadata": {},
   "source": [
    "Here we show a two dimensional projection of an IID Object :"
   ]
  },
  {
   "cell_type": "code",
   "execution_count": null,
   "metadata": {},
   "outputs": [],
   "source": [
    "d = 2\n",
    "iid = qp.IIDStdUniform(d)\n",
    "fig,ax = qp.plot_proj(iid, n = 2**7)"
   ]
  },
  {
   "cell_type": "markdown",
   "metadata": {},
   "source": [
    "Here we show a two dimensional projection of an LD Halton object with successively increasing numbers of points.  The initial points are in blue. The next additional points are in orange. The final additional points are in green :"
   ]
  },
  {
   "cell_type": "code",
   "execution_count": null,
   "metadata": {},
   "outputs": [],
   "source": [
    "d = 4\n",
    "halton = qp.Halton(d)\n",
    "fig,ax = qp.plot_proj(halton, n = [2**5, 2**6, 2**7])"
   ]
  },
  {
   "cell_type": "markdown",
   "metadata": {},
   "source": [
    "Here we show a four dimensional projection of a LD Digital Net Object :"
   ]
  },
  {
   "cell_type": "code",
   "execution_count": null,
   "metadata": {},
   "outputs": [],
   "source": [
    "d = 4\n",
    "net = qp.DigitalNetB2(d)\n",
    "fig, ax = qp.plot_proj(net, n = 2**7, d_horizontal = range(d), d_vertical = range(d), math_ind = False, marker_size = 15)"
   ]
  },
  {
   "cell_type": "markdown",
   "metadata": {},
   "source": [
    "Here we show certain specified dimensional projections (dimensions 1 and 3 on the x axis, dimensions 2 and 4 on the y axis) of a LD Digital Net Object:"
   ]
  },
  {
   "cell_type": "code",
   "execution_count": null,
   "metadata": {},
   "outputs": [],
   "source": [
    "d = 4\n",
    "net = qp.DigitalNetB2(d)\n",
    "fig, ax = qp.plot_proj(net, n = 2**7, d_horizontal = [1,3], d_vertical = [2,4])"
   ]
  },
  {
   "cell_type": "markdown",
   "metadata": {},
   "source": [
    "Here we show a five dimensional projection of a LD Lattice object with successively increasing numbers of points.  The initial points are in blue. The next additional points are in orange. The final additional points are in green :"
   ]
  },
  {
   "cell_type": "code",
   "execution_count": null,
   "metadata": {},
   "outputs": [],
   "source": [
    "d = 5\n",
    "lattice = qp.Lattice(d,generating_vector=\"lattice_vec_lnb.750.24.npy\")\n",
    "fig, ax = qp.plot_proj(lattice, n = [2**6, 2**7, 2**8], d_horizontal = range(d), d_vertical = range(d), math_ind = False, marker_size = 15)"
   ]
  },
  {
   "cell_type": "markdown",
   "metadata": {},
   "source": [
    "### The following examples show plotting of different True Measure Objects:"
   ]
  },
  {
   "cell_type": "markdown",
   "metadata": {},
   "source": [
    "Here we show a two dimensional projection of a Gaussian Object and how the axes returned by the plot_proj function can be manipulated by adding a horizontal and vertical line to denote the x and y axis respectively:"
   ]
  },
  {
   "cell_type": "code",
   "execution_count": null,
   "metadata": {},
   "outputs": [],
   "source": [
    "d = 2\n",
    "iid = qp.IIDStdUniform(d)\n",
    "iid_gaussian = qp.Gaussian(iid,mean =[2,4],covariance=[[9,4],[4,5]])\n",
    "fig,ax = qp.plot_proj(iid_gaussian, n = 2**7)\n",
    "ax[0,0].axvline(x=0,color= 'k',alpha=.25); #adding vertical line\n",
    "ax[0,0].axhline(y=0,color= 'k',alpha=.25); #adding horizontal line"
   ]
  },
  {
   "cell_type": "markdown",
   "metadata": {},
   "source": [
    "Here we show a two dimensional projection of a Gaussian Object with successively increasing numbers of points.  The initial points are in blue. The next additional points are in orange. The final additional points are in green :"
   ]
  },
  {
   "cell_type": "code",
   "execution_count": null,
   "metadata": {},
   "outputs": [],
   "source": [
    "d = 2\n",
    "iid = qp.IIDStdUniform(d)\n",
    "iid_gaussian = qp.Gaussian(iid,mean =[2,4],covariance=[[9,4],[4,5]])\n",
    "fig,ax = qp.plot_proj(iid_gaussian, n = [2**5,2**6,2**7])"
   ]
  },
  {
   "cell_type": "markdown",
   "metadata": {},
   "source": [
    "Here we show a four dimensional projection of a SciPyWrapper Object:"
   ]
  },
  {
   "cell_type": "code",
   "execution_count": 3,
   "metadata": {},
   "outputs": [
    {
     "ename": "AttributeError",
     "evalue": "module 'scipy.stats._distn_infrastructure' has no attribute 'rv_continuous_frozen'",
     "output_type": "error",
     "traceback": [
      "\u001b[1;31m---------------------------------------------------------------------------\u001b[0m",
      "\u001b[1;31mAttributeError\u001b[0m                            Traceback (most recent call last)",
      "Cell \u001b[1;32mIn[3], line 4\u001b[0m\n\u001b[0;32m      2\u001b[0m d \u001b[38;5;241m=\u001b[39m \u001b[38;5;241m4\u001b[39m\n\u001b[0;32m      3\u001b[0m net \u001b[38;5;241m=\u001b[39m qp\u001b[38;5;241m.\u001b[39mDigitalNetB2(d)\n\u001b[1;32m----> 4\u001b[0m net_sci_py_wrapper \u001b[38;5;241m=\u001b[39m \u001b[43mqp\u001b[49m\u001b[38;5;241;43m.\u001b[39;49m\u001b[43mSciPyWrapper\u001b[49m\u001b[43m(\u001b[49m\u001b[43mnet\u001b[49m\u001b[43m,\u001b[49m\u001b[43m[\u001b[49m\u001b[43mscipy\u001b[49m\u001b[38;5;241;43m.\u001b[39;49m\u001b[43mstats\u001b[49m\u001b[38;5;241;43m.\u001b[39;49m\u001b[43mbeta\u001b[49m\u001b[43m(\u001b[49m\u001b[43ma\u001b[49m\u001b[38;5;241;43m=\u001b[39;49m\u001b[38;5;241;43m1\u001b[39;49m\u001b[43m,\u001b[49m\u001b[43mb\u001b[49m\u001b[38;5;241;43m=\u001b[39;49m\u001b[38;5;241;43m5\u001b[39;49m\u001b[43m)\u001b[49m\u001b[43m,\u001b[49m\u001b[43mscipy\u001b[49m\u001b[38;5;241;43m.\u001b[39;49m\u001b[43mstats\u001b[49m\u001b[38;5;241;43m.\u001b[39;49m\u001b[43mgamma\u001b[49m\u001b[43m(\u001b[49m\u001b[43ma\u001b[49m\u001b[38;5;241;43m=\u001b[39;49m\u001b[38;5;241;43m1\u001b[39;49m\u001b[43m)\u001b[49m\u001b[43m,\u001b[49m\u001b[43mscipy\u001b[49m\u001b[38;5;241;43m.\u001b[39;49m\u001b[43mstats\u001b[49m\u001b[38;5;241;43m.\u001b[39;49m\u001b[43muniform\u001b[49m\u001b[43m(\u001b[49m\u001b[43mloc\u001b[49m\u001b[43m \u001b[49m\u001b[38;5;241;43m=\u001b[39;49m\u001b[43m \u001b[49m\u001b[38;5;241;43m1\u001b[39;49m\u001b[43m,\u001b[49m\u001b[43mscale\u001b[49m\u001b[43m \u001b[49m\u001b[38;5;241;43m=\u001b[39;49m\u001b[43m \u001b[49m\u001b[38;5;241;43m2\u001b[39;49m\u001b[43m)\u001b[49m\u001b[43m,\u001b[49m\u001b[43mscipy\u001b[49m\u001b[38;5;241;43m.\u001b[39;49m\u001b[43mstats\u001b[49m\u001b[38;5;241;43m.\u001b[39;49m\u001b[43mnorm\u001b[49m\u001b[43m(\u001b[49m\u001b[43mloc\u001b[49m\u001b[43m \u001b[49m\u001b[38;5;241;43m=\u001b[39;49m\u001b[43m \u001b[49m\u001b[38;5;241;43m3\u001b[39;49m\u001b[43m,\u001b[49m\u001b[43m \u001b[49m\u001b[43mscale\u001b[49m\u001b[43m \u001b[49m\u001b[38;5;241;43m=\u001b[39;49m\u001b[43m \u001b[49m\u001b[38;5;241;43m4\u001b[39;49m\u001b[43m)\u001b[49m\u001b[43m]\u001b[49m\u001b[43m)\u001b[49m\n\u001b[0;32m      5\u001b[0m fig, ax \u001b[38;5;241m=\u001b[39m qp\u001b[38;5;241m.\u001b[39mplot_proj(net_sci_py_wrapper, n \u001b[38;5;241m=\u001b[39m \u001b[38;5;241m2\u001b[39m\u001b[38;5;241m*\u001b[39m\u001b[38;5;241m*\u001b[39m\u001b[38;5;241m7\u001b[39m, d_horizontal \u001b[38;5;241m=\u001b[39m \u001b[38;5;28mrange\u001b[39m(d), d_vertical \u001b[38;5;241m=\u001b[39m \u001b[38;5;28mrange\u001b[39m(d), math_ind\u001b[38;5;241m=\u001b[39m \u001b[38;5;28;01mFalse\u001b[39;00m, marker_size \u001b[38;5;241m=\u001b[39m \u001b[38;5;241m15\u001b[39m)\n",
      "File \u001b[1;32mc:\\users\\aadit\\documents\\qmcsoftware\\qmcpy\\true_measure\\scipy_wrapper.py:49\u001b[0m, in \u001b[0;36mSciPyWrapper.__init__\u001b[1;34m(self, discrete_distrib, scipy_distribs)\u001b[0m\n\u001b[0;32m     47\u001b[0m     \u001b[38;5;28;01mraise\u001b[39;00m ParameterError(\u001b[38;5;124m\"\u001b[39m\u001b[38;5;124mSciPyWrapper requires discrete_distrib be a DiscreteDistribution.\u001b[39m\u001b[38;5;124m\"\u001b[39m)\n\u001b[0;32m     48\u001b[0m \u001b[38;5;28mself\u001b[39m\u001b[38;5;241m.\u001b[39m_parse_sampler(discrete_distrib)\n\u001b[1;32m---> 49\u001b[0m \u001b[38;5;28mself\u001b[39m\u001b[38;5;241m.\u001b[39mscipy_distrib \u001b[38;5;241m=\u001b[39m \u001b[38;5;28mlist\u001b[39m(scipy_distribs) \u001b[38;5;28;01mif\u001b[39;00m \u001b[38;5;129;01mnot\u001b[39;00m \u001b[38;5;28misinstance\u001b[39m(scipy_distribs,\u001b[43mscipy\u001b[49m\u001b[38;5;241;43m.\u001b[39;49m\u001b[43mstats\u001b[49m\u001b[38;5;241;43m.\u001b[39;49m\u001b[43m_distn_infrastructure\u001b[49m\u001b[38;5;241;43m.\u001b[39;49m\u001b[43mrv_continuous_frozen\u001b[49m) \u001b[38;5;28;01melse\u001b[39;00m [scipy_distribs]\n\u001b[0;32m     50\u001b[0m \u001b[38;5;28;01mfor\u001b[39;00m sd \u001b[38;5;129;01min\u001b[39;00m \u001b[38;5;28mself\u001b[39m\u001b[38;5;241m.\u001b[39mscipy_distrib:\n\u001b[0;32m     51\u001b[0m     \u001b[38;5;28;01mif\u001b[39;00m \u001b[38;5;28misinstance\u001b[39m(sd,scipy\u001b[38;5;241m.\u001b[39mstats\u001b[38;5;241m.\u001b[39m_distn_infrastructure\u001b[38;5;241m.\u001b[39mrv_continuous_frozen): \u001b[38;5;28;01mcontinue\u001b[39;00m\n",
      "\u001b[1;31mAttributeError\u001b[0m: module 'scipy.stats._distn_infrastructure' has no attribute 'rv_continuous_frozen'"
     ]
    }
   ],
   "source": [
    "import scipy.stats\n",
    "d = 4\n",
    "net = qp.DigitalNetB2(d)\n",
    "net_sci_py_wrapper = qp.SciPyWrapper(net,[scipy.stats.beta(a=1,b=5),scipy.stats.gamma(a=1),scipy.stats.uniform(loc = 1,scale = 2),scipy.stats.norm(loc = 3, scale = 4)])\n",
    "fig, ax = qp.plot_proj(net_sci_py_wrapper, n = 2**7, d_horizontal = range(d), d_vertical = range(d), math_ind= False, marker_size = 15)"
   ]
  },
  {
   "cell_type": "markdown",
   "metadata": {},
   "source": [
    "Here we show certain specified dimensional projections (dimensions 1 and 3 on the x axis, dimensions 2 and 4 on the y axis) of a SciPyWrapper Object:"
   ]
  },
  {
   "cell_type": "code",
   "execution_count": null,
   "metadata": {},
   "outputs": [],
   "source": [
    "import scipy.stats\n",
    "d = 4\n",
    "net = qp.DigitalNetB2(d)\n",
    "net_sci_py_wrapper = qp.SciPyWrapper(net,[scipy.stats.beta(a=1,b=5),scipy.stats.gamma(a=1),scipy.stats.uniform(loc = 1,scale = 2),scipy.stats.norm(loc = 3, scale = 4)])\n",
    "fig, ax = qp.plot_proj(net_sci_py_wrapper, n = 2**7, d_horizontal = [1,3], d_vertical = [2,4])"
   ]
  },
  {
   "cell_type": "markdown",
   "metadata": {},
   "source": [
    "Here we show a four dimensional projection of a Uniform object with successively increasing numbers of points.  The initial points are in blue. The next additional points are in orange. The final additional points are in green :"
   ]
  },
  {
   "cell_type": "code",
   "execution_count": null,
   "metadata": {},
   "outputs": [],
   "source": [
    "d = 4\n",
    "halton = qp.Halton(d)\n",
    "halton_uniform = qp.Uniform(halton,lower_bound=[1,2,3,4],upper_bound=[5,7,9,11])\n",
    "fig, ax = qp.plot_proj(halton_uniform, n = [2**6, 2**7, 2**8], d_horizontal = range(d), d_vertical = range(d), math_ind = False, marker_size = 15)"
   ]
  }
 ],
 "metadata": {
  "kernelspec": {
   "display_name": "Python 3 (ipykernel)",
   "language": "python",
   "name": "python3"
  },
  "language_info": {
   "codemirror_mode": {
    "name": "ipython",
    "version": 3
   },
   "file_extension": ".py",
   "mimetype": "text/x-python",
   "name": "python",
   "nbconvert_exporter": "python",
   "pygments_lexer": "ipython3",
   "version": "3.9.13"
  }
 },
 "nbformat": 4,
 "nbformat_minor": 2
}
